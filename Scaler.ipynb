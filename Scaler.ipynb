{
 "cells": [
  {
   "cell_type": "code",
   "execution_count": 1,
   "metadata": {},
   "outputs": [],
   "source": [
    "import numpy as np\n",
    "from scipy.io import loadmat\n",
    "from sklearn import preprocessing\n",
    "from sklearn.decomposition import PCA"
   ]
  },
  {
   "cell_type": "code",
   "execution_count": 2,
   "metadata": {},
   "outputs": [],
   "source": [
    "input_image = loadmat('F:\\data\\Indian_pines_corrected.mat')['indian_pines_corrected']\n",
    "output_image = loadmat('F:\\data\\Indian_pines_gt.mat')#['indian_pines_gt']"
   ]
  },
  {
   "cell_type": "code",
   "execution_count": null,
   "metadata": {},
   "outputs": [],
   "source": [
    "input_image.shape"
   ]
  },
  {
   "cell_type": "code",
   "execution_count": null,
   "metadata": {},
   "outputs": [],
   "source": [
    "# spectral = list()\n",
    "# for i in range(input_image.shape[0]):\n",
    "#     for j in range(input_image.shape[1]):\n",
    "#         spectral.append(input_image[i][j,])\n",
    "# spectral_array = np.array(spectral)"
   ]
  },
  {
   "cell_type": "code",
   "execution_count": null,
   "metadata": {},
   "outputs": [],
   "source": [
    "# spectral_array = preprocessing.scale(spectral_array)"
   ]
  },
  {
   "cell_type": "code",
   "execution_count": null,
   "metadata": {},
   "outputs": [],
   "source": [
    "def scal_pca_hpi(input_image, dimension=30):\n",
    "    spectral = list()\n",
    "    for i in range(input_image.shape[0]):\n",
    "        for j in range(input_image.shape[1]):\n",
    "            spectral.append(input_image[i][j,])\n",
    "    spectral_array = np.array(spectral)\n",
    "    spectral_array = preprocessing.scale(spectral_array) # 归一化\n",
    "    pca = PCA(n_components=dimension,svd_solver='auto')\n",
    "    pca.fit(spectral_array)\n",
    "    pca_input_iamge = pca.transform(spectral_array)\n",
    "    ## 降维之后恢复 原来形状\n",
    "    pca_return_array = np.vsplit(pca_input_iamge,145)\n",
    "    pca_return_array = np.array(pca_return_array)\n",
    "    print (pca.explained_variance_ratio_)\n",
    "    return pca_return_array  "
   ]
  },
  {
   "cell_type": "code",
   "execution_count": null,
   "metadata": {},
   "outputs": [],
   "source": [
    "test = scal_pca_hpi(input_image,30)"
   ]
  },
  {
   "cell_type": "code",
   "execution_count": null,
   "metadata": {},
   "outputs": [],
   "source": [
    "test[0]"
   ]
  },
  {
   "cell_type": "code",
   "execution_count": 3,
   "metadata": {},
   "outputs": [],
   "source": [
    "# pca后降维\n",
    "def pca_scal_hpi(input_image, dimension=30):\n",
    "    spectral = list()\n",
    "    for i in range(input_image.shape[0]):\n",
    "        for j in range(input_image.shape[1]):\n",
    "            spectral.append(input_image[i][j,])\n",
    "    spectral_array = np.array(spectral)\n",
    "    ## 降维\n",
    "    pca = PCA(n_components=dimension,svd_solver='auto')\n",
    "    pca.fit(spectral_array)\n",
    "    pca_input_iamge = pca.transform(spectral_array)\n",
    "    # 归一化操作\n",
    "    pca_input_iamge = preprocessing.scale(pca_input_iamge)\n",
    "    ## 降维之后恢复 原来形状\n",
    "    pca_return_array = np.vsplit(pca_input_iamge,145)\n",
    "    pca_return_array = np.array(pca_return_array)\n",
    "    print (pca.explained_variance_ratio_)\n",
    "    return pca_return_array\n",
    "\n",
    "    "
   ]
  },
  {
   "cell_type": "code",
   "execution_count": null,
   "metadata": {},
   "outputs": [],
   "source": [
    "# spectral = list()\n",
    "# for i in range(input_image.shape[0]):\n",
    "#     for j in range(input_image.shape[1]):\n",
    "#         spectral.append(input_image[i][j,])\n",
    "# spectral_array = np.array(spectral)\n",
    "#     ## 降维\n",
    "# pca = PCA(n_components=10,svd_solver='auto')\n",
    "# pca.fit(spectral_array)\n",
    "# pca_input_iamge = pca.transform(spectral_array)"
   ]
  },
  {
   "cell_type": "code",
   "execution_count": null,
   "metadata": {},
   "outputs": [],
   "source": [
    "# pca_input_iamge = preprocessing.scale(pca_input_iamge)"
   ]
  },
  {
   "cell_type": "code",
   "execution_count": null,
   "metadata": {},
   "outputs": [],
   "source": [
    "# pca_input_iamge[0]"
   ]
  },
  {
   "cell_type": "code",
   "execution_count": 4,
   "metadata": {},
   "outputs": [
    {
     "name": "stdout",
     "output_type": "stream",
     "text": [
      "[6.84937994e-01 2.35313708e-01 1.49635476e-02 8.21541515e-03\n",
      " 6.95011265e-03 5.17010703e-03 3.99681431e-03 3.62359687e-03\n",
      " 3.07127396e-03 2.93211894e-03 2.67352983e-03 2.49230109e-03\n",
      " 2.24688360e-03 1.89388745e-03 1.69433607e-03 1.56043461e-03\n",
      " 1.53162466e-03 1.35012961e-03 1.00138567e-03 9.24873702e-04\n",
      " 8.47851755e-04 7.64306812e-04 6.64581741e-04 6.45473952e-04\n",
      " 6.16347504e-04 5.61264362e-04 5.42907780e-04 5.15420668e-04\n",
      " 4.20817337e-04 3.63347607e-04]\n"
     ]
    }
   ],
   "source": [
    "test2 = pca_scal_hpi(input_image, 30)"
   ]
  },
  {
   "cell_type": "code",
   "execution_count": 5,
   "metadata": {},
   "outputs": [
    {
     "data": {
      "text/plain": [
       "array([ 1.0820887 , -0.66690204,  0.45762631, -0.93216905,  0.28399975,\n",
       "       -0.64117544,  0.51326281,  0.63968518, -1.36992927,  0.27604524,\n",
       "        0.93576217, -0.02720248, -0.26631018,  0.11476881,  0.26020606,\n",
       "       -0.1723424 , -0.52146958, -0.59327248,  0.85045126,  0.20391733,\n",
       "        0.19455081, -0.08692314,  0.64219349,  0.27471037, -0.79895382,\n",
       "       -0.33198065,  1.07264239, -0.50212162, -1.60224172, -2.68429069])"
      ]
     },
     "execution_count": 5,
     "metadata": {},
     "output_type": "execute_result"
    }
   ],
   "source": [
    "test2[0][1]"
   ]
  },
  {
   "cell_type": "code",
   "execution_count": null,
   "metadata": {},
   "outputs": [],
   "source": []
  }
 ],
 "metadata": {
  "kernelspec": {
   "display_name": "Python 3",
   "language": "python",
   "name": "python3"
  },
  "language_info": {
   "codemirror_mode": {
    "name": "ipython",
    "version": 3
   },
   "file_extension": ".py",
   "mimetype": "text/x-python",
   "name": "python",
   "nbconvert_exporter": "python",
   "pygments_lexer": "ipython3",
   "version": "3.6.4"
  }
 },
 "nbformat": 4,
 "nbformat_minor": 2
}
