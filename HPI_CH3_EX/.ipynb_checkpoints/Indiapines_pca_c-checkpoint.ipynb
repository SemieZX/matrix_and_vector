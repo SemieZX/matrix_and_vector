{
 "cells": [
  {
   "cell_type": "code",
   "execution_count": 1,
   "metadata": {},
   "outputs": [],
   "source": [
    "import numpy as np\n",
    "import matplotlib.pyplot as plt\n",
    "from scipy.io import loadmat\n",
    "import spectral\n",
    "from sklearn import preprocessing\n",
    "from sklearn.cluster import KMeans \n",
    "import pandas as pd\n",
    "from sklearn.model_selection import train_test_split\n",
    "from sklearn.svm import SVC\n",
    "from sklearn import metrics\n",
    "from xgboost import XGBClassifier\n",
    "from sklearn.decomposition import PCA\n",
    "from sklearn.ensemble import GradientBoostingClassifier\n",
    "from sklearn.ensemble import AdaBoostClassifier\n",
    "import lightgbm as lgb\n",
    "import joblib"
   ]
  },
  {
   "cell_type": "markdown",
   "metadata": {},
   "source": [
    "#### pca降维操作"
   ]
  },
  {
   "cell_type": "code",
   "execution_count": 8,
   "metadata": {},
   "outputs": [],
   "source": [
    "def pca_hpi(input_image, dimension=30):\n",
    "    spectral = list()\n",
    "    for i in range(input_image.shape[0]):\n",
    "        for j in range(input_image.shape[1]):\n",
    "            spectral.append(input_image[i][j,])\n",
    "    spectral_array = np.array(spectral)\n",
    "    ## 降维\n",
    "    pca = PCA(n_components=dimension)\n",
    "    pca.fit(spectral_array)\n",
    "    pca_input_iamge = pca.transform(spectral_array)\n",
    "    ## 姜维之后恢复 原来形状\n",
    "    pca_return_array = np.vsplit(pca_input_iamge,input_image.shape[0])\n",
    "    pca_return_array = np.array(pca_return_array)\n",
    "    print (pca.explained_variance_ratio_)\n",
    "    return pca_return_array"
   ]
  },
  {
   "cell_type": "markdown",
   "metadata": {},
   "source": [
    "#### 提取一个channel的空间"
   ]
  },
  {
   "cell_type": "code",
   "execution_count": 3,
   "metadata": {},
   "outputs": [],
   "source": [
    "# 可以提取出高光谱数据的一个channel的数据 145*145\n",
    "def split_one_channel(A,channel):\n",
    "    d = [0]*A.shape[0]\n",
    "    for i in range(len(d)):\n",
    "        d[i] = A[i][:,channel-1]\n",
    "    e = np.vstack((d[i] for i in range(len(d))))\n",
    "    return e  \n",
    "# 参数说明\n",
    "# channel 通道\n",
    "# A 高光谱立方块\n",
    "\n",
    "\n",
    "# 依据patch大小（Filter 大小）对矩阵进行镜像处理\n",
    "def mirror_matrix(A, fil):\n",
    "    pad = int((fil-1)/2)\n",
    "    for  i in range(1,pad+1):\n",
    "        up = np.array(A[2*i-1,:])\n",
    "        down = np.array(A[-2*i,:])\n",
    "        Matrix_up_down = np.vstack([up,A,down])\n",
    "        left = np.array(Matrix_up_down[:,2*i-1]).reshape(len(Matrix_up_down),1)\n",
    "        right = np.array(Matrix_up_down[:,-2*i]).reshape(len(Matrix_up_down),1)\n",
    "        Matrix_left_right = np.hstack([left,Matrix_up_down,right,])\n",
    "        A = Matrix_left_right\n",
    "    return A\n",
    "\n",
    "# 参数说明\n",
    "# n   array size\n",
    "# fil  filter size5*5\n",
    "# pad = (fil-1)/2  padding大小\n",
    "\n",
    "\n",
    "# 将镜像处理后的矩阵进行向量化操作\n",
    "def split_array(A,fil):\n",
    "    s = []\n",
    "    row = len(A)-fil+1\n",
    "    col = len(A[0])-fil+1\n",
    "    for i in range(row): # row\n",
    "        for j in range(col): # col\n",
    "            temp = [0]* fil\n",
    "            for z in range(fil):\n",
    "                temp[z] = A[i+z,j:j+fil]\n",
    "            com = np.concatenate([item for item in temp ])\n",
    "            s.append(com)\n",
    "    return s \n",
    "# 参数说明\n",
    "# A 镜像处理后的矩阵\n",
    "# fil  filter size\n",
    "\n",
    "\n",
    "# 计算欧几里得距离\n",
    "def Euclidean(v1,v2):\n",
    "    return np.linalg.norm(v1-v2)\n",
    "\n",
    "\n",
    "# 计算单个patch的空间信息\n",
    "def patch_spitial(v1, K_centroid):\n",
    "    distance_array = np.array([Euclidean(v1, centroid) for centroid in K_centroid]) #距离matrix\n",
    "    sums = np.sum(distance_array)\n",
    "    average = np.average(distance_array)\n",
    "    spitial_one_patch = np.maximum(0,average - distance_array) #依据公式求空间信息\n",
    "    return spitial_one_patch\n",
    "\n",
    "# 对一个channel的求解进行向量化\n",
    "def channel_spitial(channel_matrix, K_centroid):\n",
    "    channel_spitial_list = list()\n",
    "    for i in range(len(channel_matrix)):\n",
    "        channel_spitial_list.append(patch_spitial(channel_matrix[i], K_centroid))\n",
    "    return np.array(channel_spitial_list)"
   ]
  },
  {
   "cell_type": "markdown",
   "metadata": {},
   "source": [
    "#### 整体求解"
   ]
  },
  {
   "cell_type": "code",
   "execution_count": 16,
   "metadata": {},
   "outputs": [],
   "source": [
    "## 构造n个通道的向量\n",
    "def create_whole_vector(dim,fil,input_image):\n",
    "    whole_origin_matrix_array = np.array([split_one_channel(input_image,i) for i in range(1,dim+1)])\n",
    "    whole_mirror_matrix_array = np.array([mirror_matrix(whole_origin_matrix_array[i],fil) for i in range(dim)])\n",
    "    whole_split_matrix_array = np.array([split_array(whole_mirror_matrix_array[i],fil) for i in range(dim)])\n",
    "    return whole_split_matrix_array\n",
    "\n",
    "## 通过k-means求解 whole_K_centroid\n",
    "K =5 # K个中心\n",
    "def create_centroid(K,dim,whole_split_matrix_array):\n",
    "    whole_kmeans = [KMeans(n_clusters=K, random_state=0).fit(whole_split_matrix_array[i]) for i in range(dim)]\n",
    "    whole_K_centroid = [whole_kmeans[i].cluster_centers_ for i in range(dim) ]\n",
    "    return whole_K_centroid\n",
    "\n",
    "## 求整体空间信息\n",
    "def create_spe_spi(whole_K_centroid,whole_split_matrix_array):\n",
    "    whole_temp = list()\n",
    "    for i in range(len(whole_K_centroid)):\n",
    "        whole_temp.append(channel_spitial(whole_split_matrix_array[i],whole_K_centroid[i]))\n",
    "    whole_spitial = np.array(whole_temp)\n",
    "    return whole_spitial\n",
    "\n",
    "\n",
    "###### 可选操作，将spectral-spitial信息以numpy形式保存\n",
    "def save_spe_spi(whole_spitial,path='I:\\data\\whole_spitial.npy'):\n",
    "    np.save(path,whole_spitial)\n",
    "###### 可选操作，载入数据\n",
    "def load_spe_spi(name):\n",
    "    s = np.load(name)\n",
    "    return s\n",
    "\n",
    "## 合成sample_with_lables\n",
    "def sample_with_lables(s,dim,output_image):\n",
    "    sample = np.hstack([s[i]for i in range(dim)])\n",
    "    label = output_image.reshape(len(sample),1)\n",
    "    sample_lb = np.hstack([sample,label])\n",
    "    return sample_lb\n",
    "\n",
    "\n",
    "## 提取出需要分类的数据\n",
    "def need_claasify(sample_lb):\n",
    "    sample_lab_fix_list = list()\n",
    "    for i in range(len(sample_lb)):\n",
    "        if sample_lb[i,-1] != 0:\n",
    "            sample_lab_fix_list.append(sample_lb[i,:])\n",
    "    sample_lab_fix = np.array(sample_lab_fix_list)\n",
    "    return sample_lab_fix\n",
    "\n",
    "\n",
    "## 将数据归一化并且存储：\n",
    "def scaler_save(sample_lab_fix, path = 'H:\\data\\spec_spi.csv'):\n",
    "    ## 归一化\n",
    "    data_D = preprocessing.StandardScaler().fit_transform(sample_lab_fix[:,:-1])\n",
    "    data_L = sample_lab_fix[:,-1]\n",
    "\n",
    "    ## 存储\n",
    "    new = np.column_stack((data_D, data_L))\n",
    "    new_ = pd.DataFrame(new)\n",
    "    new_.to_csv(path,header=False,index=False)\n",
    "    \n",
    "\n",
    "## 分类数据提取\n",
    "def classify_pre(path='H:\\data\\spec_spi.csv'):\n",
    "    data = pd.read_csv(path,header=None)\n",
    "    data = data.as_matrix()\n",
    "    data_D = data[:,:-1]\n",
    "    data_L = data[:,-1]\n",
    "    data_train, data_test, label_train, label_test = train_test_split(data_D,data_L,test_size=0.9)\n",
    "    return data_train, data_test, label_train, label_test"
   ]
  },
  {
   "cell_type": "markdown",
   "metadata": {},
   "source": [
    "#### 分类进行"
   ]
  },
  {
   "cell_type": "code",
   "execution_count": 5,
   "metadata": {},
   "outputs": [],
   "source": [
    "## 设置初始值\n",
    "DIM = 30\n",
    "FIL = 5\n",
    "K = 5"
   ]
  },
  {
   "cell_type": "code",
   "execution_count": 6,
   "metadata": {},
   "outputs": [],
   "source": [
    "input_image = loadmat('I:\\data\\Indian_pines_corrected.mat')['indian_pines_corrected']\n",
    "output_image = loadmat('I:\\data\\Indian_pines_gt.mat')['indian_pines_gt']"
   ]
  },
  {
   "cell_type": "code",
   "execution_count": 10,
   "metadata": {},
   "outputs": [
    {
     "name": "stdout",
     "output_type": "stream",
     "text": [
      "[6.84937994e-01 2.35313708e-01 1.49635476e-02 8.21541515e-03\n",
      " 6.95011265e-03 5.17010703e-03 3.99681431e-03 3.62359687e-03\n",
      " 3.07127396e-03 2.93211894e-03 2.67352983e-03 2.49230109e-03\n",
      " 2.24688362e-03 1.89388746e-03 1.69433609e-03 1.56043465e-03\n",
      " 1.53162477e-03 1.35012966e-03 1.00138988e-03 9.24872278e-04\n",
      " 8.47879070e-04 7.64379123e-04 6.64581515e-04 6.45644069e-04\n",
      " 6.16314501e-04 5.61171855e-04 5.43149622e-04 5.15540715e-04\n",
      " 4.19625352e-04 3.64706975e-04]\n"
     ]
    },
    {
     "data": {
      "text/plain": [
       "(145, 145, 30)"
      ]
     },
     "execution_count": 10,
     "metadata": {},
     "output_type": "execute_result"
    }
   ],
   "source": [
    "## 降维操作\n",
    "pca_return_array = pca_hpi(input_image,DIM)\n",
    "pca_return_array.shape"
   ]
  },
  {
   "cell_type": "code",
   "execution_count": 11,
   "metadata": {},
   "outputs": [
    {
     "data": {
      "text/plain": [
       "(30, 21025, 25)"
      ]
     },
     "execution_count": 11,
     "metadata": {},
     "output_type": "execute_result"
    }
   ],
   "source": [
    "## 对30维高光谱数据进行向量化操作处理\n",
    "whole_split_matrix_array = create_whole_vector(DIM,FIL,pca_return_array) \n",
    "whole_split_matrix_array.shape"
   ]
  },
  {
   "cell_type": "code",
   "execution_count": 12,
   "metadata": {},
   "outputs": [
    {
     "data": {
      "text/plain": [
       "30"
      ]
     },
     "execution_count": 12,
     "metadata": {},
     "output_type": "execute_result"
    }
   ],
   "source": [
    "## 通过k-means求解空间前置信息\n",
    "whole_K_centroid = create_centroid(FIL,DIM,whole_split_matrix_array)\n",
    "len(whole_K_centroid)"
   ]
  },
  {
   "cell_type": "code",
   "execution_count": 13,
   "metadata": {},
   "outputs": [
    {
     "data": {
      "text/plain": [
       "(30, 21025, 5)"
      ]
     },
     "execution_count": 13,
     "metadata": {},
     "output_type": "execute_result"
    }
   ],
   "source": [
    "# 通过欧几里得距离求解空谱信息\n",
    "whole_spitial = create_spe_spi(whole_K_centroid,whole_split_matrix_array)\n",
    "whole_spitial.shape  # 验证空谱信息提出成功"
   ]
  },
  {
   "cell_type": "code",
   "execution_count": 17,
   "metadata": {},
   "outputs": [],
   "source": [
    "save_spe_spi(whole_spitial，path='I:\\data\\whole_spitial.npy')   ##将空谱信心保存为numpy格式"
   ]
  },
  {
   "cell_type": "code",
   "execution_count": 18,
   "metadata": {},
   "outputs": [],
   "source": [
    "spec_spi = load_spe_spi('I:\\data\\whole_spitial.npy')  # 将空谱信息载入"
   ]
  },
  {
   "cell_type": "code",
   "execution_count": 19,
   "metadata": {},
   "outputs": [
    {
     "data": {
      "text/plain": [
       "(30, 21025, 5)"
      ]
     },
     "execution_count": 19,
     "metadata": {},
     "output_type": "execute_result"
    }
   ],
   "source": [
    "# 验证数据集正确性\n",
    "spec_spi.shape"
   ]
  },
  {
   "cell_type": "code",
   "execution_count": 20,
   "metadata": {},
   "outputs": [
    {
     "data": {
      "text/plain": [
       "(21025, 151)"
      ]
     },
     "execution_count": 20,
     "metadata": {},
     "output_type": "execute_result"
    }
   ],
   "source": [
    "# 合成带有标签的样本\n",
    "sample_lb = sample_with_lables(spec_spi,DIM,output_image)\n",
    "sample_lb.shape"
   ]
  },
  {
   "cell_type": "code",
   "execution_count": 21,
   "metadata": {},
   "outputs": [
    {
     "data": {
      "text/plain": [
       "(10249, 151)"
      ]
     },
     "execution_count": 21,
     "metadata": {},
     "output_type": "execute_result"
    }
   ],
   "source": [
    "## 提取需要分类的样本\n",
    "sample_lab_fix = need_claasify(sample_lb)\n",
    "sample_lab_fix.shape"
   ]
  },
  {
   "cell_type": "code",
   "execution_count": 22,
   "metadata": {},
   "outputs": [],
   "source": [
    "# 归一化后保存\n",
    "scaler_save(sample_lab_fix, path = 'I:\\data\\pca_spec_spic_30.csv') "
   ]
  },
  {
   "cell_type": "code",
   "execution_count": 23,
   "metadata": {},
   "outputs": [],
   "source": [
    " #分类前置操作\n",
    "data_train, data_test, label_train, label_test = classify_pre(path='I:\\data\\pca_spec_spic_30.csv')"
   ]
  },
  {
   "cell_type": "markdown",
   "metadata": {},
   "source": [
    "#### 执行分类"
   ]
  },
  {
   "cell_type": "code",
   "execution_count": 28,
   "metadata": {},
   "outputs": [
    {
     "name": "stdout",
     "output_type": "stream",
     "text": [
      "90.36314363143632\n"
     ]
    },
    {
     "data": {
      "text/plain": [
       "['I:\\\\model\\\\pca_specr_spi_30.m']"
      ]
     },
     "execution_count": 28,
     "metadata": {},
     "output_type": "execute_result"
    }
   ],
   "source": [
    "# clf = lgb.LGBMClassifier()\n",
    "\n",
    "clf = SVC(kernel='linear')\n",
    "\n",
    "# # clf = XGBClassifier(max_depth=20,learning_rate=0.3,n_estimators=500,silent=False,\n",
    "#                        objective='multi:softmax',\n",
    "#                         min_child_weight=1,\n",
    "#                         gamma=0.,\n",
    "#                         scale_pos_weight=1)\n",
    "\n",
    "# clf = GradientBoostingClassifier(n_estimators=1000, learning_rate=0.5,\n",
    "#      max_depth=20, random_state=0)\n",
    "# clf = AdaBoostClassifier(\n",
    "#     SVC(kernel='linear'),\n",
    "#     n_estimators=2,\n",
    "#     learning_rate=1,\n",
    "#     algorithm=\"SAMME\")\n",
    "\n",
    "clf.fit(data_train,label_train)\n",
    "pred = clf.predict(data_test)\n",
    "accuracy = metrics.accuracy_score(label_test, pred)*100\n",
    "print(accuracy)\n",
    "# acc = clf.score(data_test, label_test)\n",
    "# print(acc)\n",
    "joblib.dump(clf,\"I:\\model\\pca_specr_spi_30.m\")"
   ]
  },
  {
   "cell_type": "markdown",
   "metadata": {},
   "source": [
    "#### 绘制分类图形状"
   ]
  },
  {
   "cell_type": "code",
   "execution_count": 30,
   "metadata": {},
   "outputs": [
    {
     "data": {
      "text/plain": [
       "(145, 145)"
      ]
     },
     "execution_count": 30,
     "metadata": {},
     "output_type": "execute_result"
    }
   ],
   "source": [
    "# 新图像形状\n",
    "new_show = np.zeros((output_image.shape[0], output_image.shape[1]))\n",
    "new_show.shape"
   ]
  },
  {
   "cell_type": "code",
   "execution_count": 31,
   "metadata": {},
   "outputs": [
    {
     "name": "stdout",
     "output_type": "stream",
     "text": [
      "(10249, 150)\n",
      "(10249,)\n"
     ]
    }
   ],
   "source": [
    "## 提取所有数据\n",
    "testdata = np.genfromtxt('I:\\data\\pca_spec_spic_30.csv',delimiter=',')\n",
    "data_test = testdata[:,:-1]\n",
    "label_test = testdata[:,-1]\n",
    "print(data_test.shape)\n",
    "print(label_test.shape)"
   ]
  },
  {
   "cell_type": "code",
   "execution_count": 34,
   "metadata": {},
   "outputs": [
    {
     "name": "stdout",
     "output_type": "stream",
     "text": [
      "91.32598302273392\n"
     ]
    }
   ],
   "source": [
    "#提取分类器并分类\n",
    "clf = joblib.load('I:\\model\\pca_specr_spi_30.m')\n",
    "predict_label = clf.predict(data_test)\n",
    "accuracy = metrics.accuracy_score(label_test,predict_label)*100\n",
    "print (accuracy)"
   ]
  },
  {
   "cell_type": "code",
   "execution_count": 37,
   "metadata": {},
   "outputs": [
    {
     "data": {
      "image/png": "[encoded data removed]",
      "text/plain": [
       "<Figure size 216x216 with 1 Axes>"
      ]
     },
     "metadata": {
      "needs_background": "light"
     },
     "output_type": "display_data"
    }
   ],
   "source": [
    "# 原图\n",
    "ground_truth = spectral.imshow(classes = output_image.astype(int),figsize =(3,3))"
   ]
  },
  {
   "cell_type": "code",
   "execution_count": 38,
   "metadata": {},
   "outputs": [
    {
     "data": {
      "image/png": "[encoded data removed]",
      "text/plain": [
       "<Figure size 216x216 with 1 Axes>"
      ]
     },
     "metadata": {
      "needs_background": "light"
     },
     "output_type": "display_data"
    }
   ],
   "source": [
    "# 构造分类图\n",
    "k = 0\n",
    "for i in range(output_image.shape[0]):\n",
    "    for j in range(output_image.shape[1]):\n",
    "        if output_image[i][j] != 0:\n",
    "            new_show[i][j] = predict_label[k]\n",
    "            k += 1\n",
    "# 分类效果图\n",
    "ground_truth = spectral.imshow(classes = new_show.astype(int),figsize =(3,3))"
   ]
  },
  {
   "cell_type": "code",
   "execution_count": null,
   "metadata": {},
   "outputs": [],
   "source": []
  }
 ],
 "metadata": {
  "kernelspec": {
   "display_name": "Python 3",
   "language": "python",
   "name": "python3"
  },
  "language_info": {
   "codemirror_mode": {
    "name": "ipython",
    "version": 3
   },
   "file_extension": ".py",
   "mimetype": "text/x-python",
   "name": "python",
   "nbconvert_exporter": "python",
   "pygments_lexer": "ipython3",
   "version": "3.6.4"
  }
 },
 "nbformat": 4,
 "nbformat_minor": 2
}
