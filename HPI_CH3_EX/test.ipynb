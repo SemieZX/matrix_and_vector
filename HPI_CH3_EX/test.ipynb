{
 "cells": [
  {
   "cell_type": "code",
   "execution_count": 1,
   "metadata": {},
   "outputs": [],
   "source": [
    "import numpy as np\n",
    "import matplotlib.pyplot as plt\n",
    "from scipy.io import loadmat\n",
    "from sklearn.decomposition import PCA"
   ]
  },
  {
   "cell_type": "code",
   "execution_count": 2,
   "metadata": {},
   "outputs": [],
   "source": [
    "# 降维\n",
    "def pca_hpi(input_image, dimension=30):\n",
    "    spectral = list()\n",
    "    for i in range(input_image.shape[0]):\n",
    "        for j in range(input_image.shape[1]):\n",
    "            spectral.append(input_image[i][j,])\n",
    "    spectral_array = np.array(spectral)\n",
    "    ## 降维\n",
    "    pca = PCA(n_components=dimension)\n",
    "    pca.fit(spectral_array)\n",
    "    pca_input_iamge = pca.transform(spectral_array)\n",
    "    ## 姜维之后恢复 原来形状\n",
    "    pca_return_array = np.vsplit(pca_input_iamge,input_image.shape[0])\n",
    "    pca_return_array = np.array(pca_return_array)\n",
    "    #print (pca.explained_variance_ratio_)\n",
    "    return pca_return_array"
   ]
  },
  {
   "cell_type": "code",
   "execution_count": 3,
   "metadata": {},
   "outputs": [],
   "source": [
    "def trans(A):\n",
    "    A_c = A.transpose(2,1,0)\n",
    "    A_c = A_c.transpose(0,2,1)\n",
    "    return A_c"
   ]
  },
  {
   "cell_type": "code",
   "execution_count": 4,
   "metadata": {},
   "outputs": [],
   "source": [
    "# 原始高光谱数据\n",
    "inp = loadmat('I:\\data\\Indian_pines_corrected.mat')['indian_pines_corrected']"
   ]
  },
  {
   "cell_type": "code",
   "execution_count": 5,
   "metadata": {},
   "outputs": [],
   "source": [
    "# 转换坐标以后高光谱数据\n",
    "inp_c = inp.transpose(2,1,0)\n",
    "inp_c = inp_c.transpose(0,2,1)    "
   ]
  },
  {
   "cell_type": "code",
   "execution_count": 43,
   "metadata": {},
   "outputs": [
    {
     "data": {
      "text/plain": [
       "(200, 145, 145)"
      ]
     },
     "execution_count": 43,
     "metadata": {},
     "output_type": "execute_result"
    }
   ],
   "source": [
    "inp_c.shape"
   ]
  },
  {
   "cell_type": "code",
   "execution_count": 44,
   "metadata": {},
   "outputs": [
    {
     "data": {
      "text/plain": [
       "array([[3172, 2580, 3687, ..., 2570, 3170, 3172],\n",
       "       [2576, 2747, 2750, ..., 3859, 3686, 2744],\n",
       "       [2744, 2576, 2744, ..., 2570, 2576, 2742],\n",
       "       ...,\n",
       "       [3324, 2983, 2988, ..., 2564, 2730, 3156],\n",
       "       [3161, 2727, 2988, ..., 3156, 3159, 2561],\n",
       "       [2979, 2977, 2814, ..., 3153, 3155, 3323]], dtype=uint16)"
      ]
     },
     "execution_count": 44,
     "metadata": {},
     "output_type": "execute_result"
    }
   ],
   "source": [
    "# 验证成功\n",
    "s = list()\n",
    "for i in range(inp.shape[0]):\n",
    "    s.append(inp[i][:,0])\n",
    "e = np.vstack(item for item in s)\n",
    "e"
   ]
  },
  {
   "cell_type": "code",
   "execution_count": 45,
   "metadata": {},
   "outputs": [],
   "source": [
    "# 新的函数解法\n",
    "def split_one_channel(A,channel):\n",
    "    return A[channel-1]\n"
   ]
  },
  {
   "cell_type": "code",
   "execution_count": 46,
   "metadata": {},
   "outputs": [],
   "source": [
    "# 根据pacth大小对数据进行镜像化操作\n",
    "def mirror_matrix(A, fil):\n",
    "    pad =int((fil-1)/2)\n",
    "    for i in range(1,pad+1):\n",
    "        up = np.array(A[2*i-1,:])\n",
    "        down = np.array(A[-2*i,:])\n",
    "        Matrix_up_down = np.vstack([up,A,down])\n",
    "        left = np.array(Matrix_up_down[:,2*i-1]).reshape(len(Matrix_up_down),1)\n",
    "        right = np.array(Matrix_up_down[:,-2*i]).reshape(len(Matrix_up_down),1)\n",
    "        Matrix_left_right = np.hstack([left,Matrix_up_down,right,])\n",
    "        A = Matrix_left_right\n",
    "    return A\n",
    "# 参数说明\n",
    "# n   array size\n",
    "# fil  filter size5*5\n",
    "# pad = (fil-1)/2  padding大小"
   ]
  },
  {
   "cell_type": "code",
   "execution_count": 47,
   "metadata": {},
   "outputs": [],
   "source": [
    "# s = split_one_channel(inp_c,1)\n",
    "# s1 = mirror_matrix(s,3)"
   ]
  },
  {
   "cell_type": "code",
   "execution_count": 48,
   "metadata": {},
   "outputs": [],
   "source": [
    "# 将镜像处理后的矩阵进行向量化操作\n",
    "def split_array(A,fil):\n",
    "    # 第一行\n",
    "    row = len(A)-fil+1\n",
    "    col = len(A[0])-fil+1\n",
    "    s = []\n",
    "    for j in range(col):\n",
    "        temp = [0]*fil\n",
    "        for z in range(fil):\n",
    "            temp[z] = A[z,j:j+fil]\n",
    "        com = np.concatenate(temp)\n",
    "        s.append(com)\n",
    "    s_array = np.array(s)\n",
    "    for i in range(1,row): # row\n",
    "        for j in range(col): # col\n",
    "            temp = [0]* fil\n",
    "            for z in range(fil):\n",
    "                temp[z] = A[i+z,j:j+fil]\n",
    "            com = np.concatenate(temp)\n",
    "            s_array = np.vstack([s_array,com])\n",
    "    return s_array"
   ]
  },
  {
   "cell_type": "code",
   "execution_count": 49,
   "metadata": {},
   "outputs": [],
   "source": [
    "# s = split_one_channel(inp_c,1)\n",
    "# s1 = mirror_matrix(s,3)\n",
    "# s2 = split_array(s1,3)"
   ]
  },
  {
   "cell_type": "code",
   "execution_count": 50,
   "metadata": {},
   "outputs": [],
   "source": [
    "# 计算欧几里得距离\n",
    "def Euclidean(v1,v2):\n",
    "    return np.linalg.norm(v1-v2)"
   ]
  },
  {
   "cell_type": "code",
   "execution_count": 51,
   "metadata": {},
   "outputs": [],
   "source": [
    "# 计算单个patch的空间信息\n",
    "def patch_spitial(v1, K_centroid):\n",
    "    distance_array = np.array([Euclidean(v1, centroid) for centroid in K_centroid]) #距离matrix\n",
    "    sums = np.sum(distance_array)\n",
    "    average = np.average(distance_array)\n",
    "    spitial_one_patch = np.maximum(0,average - distance_array) #依据公式求空间信息\n",
    "    return spitial_one_patch"
   ]
  },
  {
   "cell_type": "code",
   "execution_count": 52,
   "metadata": {},
   "outputs": [],
   "source": [
    "# 对一个channel的求解进行向量化\n",
    "def channel_spitial(channel_matrix, K_centroid):\n",
    "    channel_spitial_list = list()\n",
    "    for i in range(len(channel_matrix)):\n",
    "        channel_spitial_list.append(patch_spitial(channel_matrix[i], K_centroid))\n",
    "    return np.array(channel_spitial_list)"
   ]
  },
  {
   "cell_type": "markdown",
   "metadata": {},
   "source": [
    "#### 整体操作"
   ]
  },
  {
   "cell_type": "code",
   "execution_count": 59,
   "metadata": {},
   "outputs": [
    {
     "data": {
      "text/plain": [
       "(10, 145, 145)"
      ]
     },
     "execution_count": 59,
     "metadata": {},
     "output_type": "execute_result"
    }
   ],
   "source": [
    "inp_pca = pca_hpi(inp,10)\n",
    "inp_pca_c = trans(inp_pca)\n",
    "inp_pca_c.shape #后续测试的重点模块"
   ]
  },
  {
   "cell_type": "code",
   "execution_count": 41,
   "metadata": {},
   "outputs": [],
   "source": [
    "## 构造n个通道的向量\n",
    "def create_whole_vector(dim,fil,input_image):\n",
    "    whole_origin_matrix_array = np.array((split_one_channel(input_image,i) for i in range(1,dim+1)))\n",
    "    whole_mirror_matrix_array = np.array((mirror_matrix(whole_origin_matrix_array[i],fil) for i in range(dim)))\n",
    "    whole_split_matrix_array = np.array((split_array(whole_mirror_matrix_array[i],fil) for i in range(dim)))\n",
    "    return whole_split_matrix_array\n",
    "    "
   ]
  },
  {
   "cell_type": "code",
   "execution_count": 110,
   "metadata": {},
   "outputs": [],
   "source": [
    "s = (split_one_channel(inp_pca_c,i) for i in range(1,11))\n",
    "t = ((mirror_matrix(whole_origin_matrix_array[i],fil) for i in range(10)))\n",
    "p = np.array((split_array(whole_mirror_matrix_array[i],fil) for i in range(10)))"
   ]
  },
  {
   "cell_type": "code",
   "execution_count": 101,
   "metadata": {},
   "outputs": [
    {
     "ename": "StopIteration",
     "evalue": "",
     "output_type": "error",
     "traceback": [
      "\u001b[1;31m---------------------------------------------------------------------------\u001b[0m",
      "\u001b[1;31mStopIteration\u001b[0m                             Traceback (most recent call last)",
      "\u001b[1;32m<ipython-input-101-1e0ec40729b2>\u001b[0m in \u001b[0;36m<module>\u001b[1;34m()\u001b[0m\n\u001b[0;32m      1\u001b[0m \u001b[0mwhole_origin_matrix_array\u001b[0m \u001b[1;33m=\u001b[0m \u001b[0mnp\u001b[0m\u001b[1;33m.\u001b[0m\u001b[0marray\u001b[0m\u001b[1;33m(\u001b[0m\u001b[0mnext\u001b[0m\u001b[1;33m(\u001b[0m\u001b[0ms\u001b[0m\u001b[1;33m)\u001b[0m\u001b[1;33m)\u001b[0m\u001b[1;33m\u001b[0m\u001b[0m\n\u001b[0;32m      2\u001b[0m \u001b[1;32mwhile\u001b[0m \u001b[1;32mTrue\u001b[0m\u001b[1;33m:\u001b[0m\u001b[1;33m\u001b[0m\u001b[0m\n\u001b[1;32m----> 3\u001b[1;33m     \u001b[0mwhole_origin_matrix_array\u001b[0m \u001b[1;33m=\u001b[0m \u001b[0mnp\u001b[0m\u001b[1;33m.\u001b[0m\u001b[0mvstack\u001b[0m\u001b[1;33m(\u001b[0m\u001b[1;33m(\u001b[0m\u001b[0mwhole_origin_matrix_array\u001b[0m\u001b[1;33m,\u001b[0m\u001b[0mnext\u001b[0m\u001b[1;33m(\u001b[0m\u001b[0ms\u001b[0m\u001b[1;33m)\u001b[0m\u001b[1;33m)\u001b[0m\u001b[1;33m)\u001b[0m\u001b[1;33m\u001b[0m\u001b[0m\n\u001b[0m\u001b[0;32m      4\u001b[0m \u001b[0mwhole_origin_matrix_array\u001b[0m \u001b[1;33m=\u001b[0m \u001b[0mwhole_origin_matrix_array\u001b[0m\u001b[1;33m.\u001b[0m\u001b[0mreshape\u001b[0m\u001b[1;33m(\u001b[0m\u001b[1;36m10\u001b[0m\u001b[1;33m,\u001b[0m\u001b[1;36m145\u001b[0m\u001b[1;33m,\u001b[0m\u001b[1;36m145\u001b[0m\u001b[1;33m)\u001b[0m\u001b[1;33m\u001b[0m\u001b[0m\n",
      "\u001b[1;31mStopIteration\u001b[0m: "
     ]
    }
   ],
   "source": [
    "whole_origin_matrix_array = np.array(next(s))\n",
    "while True:\n",
    "    whole_origin_matrix_array = np.vstack((whole_origin_matrix_array,next(s)))"
   ]
  },
  {
   "cell_type": "code",
   "execution_count": 103,
   "metadata": {},
   "outputs": [],
   "source": [
    "whole_origin_matrix_array = whole_origin_matrix_array.reshape(10,145,145)"
   ]
  },
  {
   "cell_type": "code",
   "execution_count": 104,
   "metadata": {},
   "outputs": [
    {
     "data": {
      "text/plain": [
       "(10, 145, 145)"
      ]
     },
     "execution_count": 104,
     "metadata": {},
     "output_type": "execute_result"
    }
   ],
   "source": [
    "whole_origin_matrix_array.shape"
   ]
  },
  {
   "cell_type": "code",
   "execution_count": 99,
   "metadata": {},
   "outputs": [
    {
     "data": {
      "text/plain": [
       "(10, 145, 145)"
      ]
     },
     "execution_count": 99,
     "metadata": {},
     "output_type": "execute_result"
    }
   ],
   "source": [
    "whole_origin_matrix_array = np.array([split_one_channel(inp_pca_c,i) for i in range(1,10+1)])\n",
    "whole_origin_matrix_array.shape"
   ]
  },
  {
   "cell_type": "code",
   "execution_count": 111,
   "metadata": {},
   "outputs": [
    {
     "data": {
      "text/plain": [
       "(10, 145, 145)"
      ]
     },
     "execution_count": 111,
     "metadata": {},
     "output_type": "execute_result"
    }
   ],
   "source": [
    "whole_origin_matrix_array = np.array(next(s))\n",
    "while True:\n",
    "    try :\n",
    "        whole_origin_matrix_array = np.vstack((whole_origin_matrix_array,next(s)))\n",
    "    except StopIteration as e:\n",
    "        whole_origin_matrix_array = whole_origin_matrix_array.reshape(10,145,145)\n",
    "        break\n",
    "whole_origin_matrix_array.shape"
   ]
  },
  {
   "cell_type": "code",
   "execution_count": 123,
   "metadata": {},
   "outputs": [],
   "source": [
    "def create_whole_vector(dim,fil,input_image):\n",
    "    # 生成器\n",
    "    pad =int((fil-1)/2)\n",
    "    s = (split_one_channel(input_image,i) for i in range(1,dim+1))\n",
    "    whole_origin_matrix_array = np.array(next(s))\n",
    "    while True:\n",
    "        try:\n",
    "            whole_origin_matrix_array = np.vstack((whole_origin_matrix_array,next(s)))\n",
    "        except StopIteration as e:\n",
    "            whole_origin_matrix_array = whole_origin_matrix_array.reshape(dim,input_image.shape[1],\n",
    "                                                                          input_image.shape[2])                                                                     \n",
    "            break\n",
    "    p = (mirror_matrix(whole_origin_matrix_array[i],fil) for i in range(dim))\n",
    "    whole_mirror_matrix_array = np.array(next(p))\n",
    "    while True:\n",
    "        try:\n",
    "            whole_mirror_matrix_array = np.vstack((whole_mirror_matrix_array, next(p)))\n",
    "        except StopIteration as e:\n",
    "            whole_mirror_matrix_array = whole_mirror_matrix_array.reshape(dim,input_image.shape[1]+pad*2,\n",
    "                                                                          input_image.shape[2]+pad*2)\n",
    "            break\n",
    "    t = (split_array(whole_mirror_matrix_array[i],fil) for i in range(dim))\n",
    "    whole_split_matrix_array = np.array(next(t))\n",
    "    while True:\n",
    "        try:\n",
    "            whole_split_matrix_array = np.vstack((whole_split_matrix_array, next(t)))\n",
    "        except StopIteration as e:\n",
    "            whole_split_matrix_array = whole_split_matrix_array.reshape(dim,(input_image.shape[1])**2,-1)\n",
    "            break\n",
    "    return  whole_split_matrix_array"
   ]
  },
  {
   "cell_type": "code",
   "execution_count": null,
   "metadata": {},
   "outputs": [],
   "source": [
    "test = create_whole_vector(10,5,inp_pca_c)\n",
    "test.shape"
   ]
  },
  {
   "cell_type": "code",
   "execution_count": null,
   "metadata": {},
   "outputs": [],
   "source": []
  }
 ],
 "metadata": {
  "kernelspec": {
   "display_name": "Python 3",
   "language": "python",
   "name": "python3"
  },
  "language_info": {
   "codemirror_mode": {
    "name": "ipython",
    "version": 3
   },
   "file_extension": ".py",
   "mimetype": "text/x-python",
   "name": "python",
   "nbconvert_exporter": "python",
   "pygments_lexer": "ipython3",
   "version": "3.6.4"
  }
 },
 "nbformat": 4,
 "nbformat_minor": 2
}
