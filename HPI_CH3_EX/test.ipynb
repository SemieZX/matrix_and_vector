{
 "cells": [
  {
   "cell_type": "code",
   "execution_count": 174,
   "metadata": {},
   "outputs": [],
   "source": [
    "import numpy as np\n",
    "import matplotlib.pyplot as plt\n",
    "from scipy.io import loadmat\n",
    "from sklearn.decomposition import PCA\n",
    "from sklearn.cluster import KMeans"
   ]
  },
  {
   "cell_type": "code",
   "execution_count": 255,
   "metadata": {},
   "outputs": [],
   "source": [
    "import numpy as np\n",
    "import matplotlib.pyplot as plt\n",
    "from scipy.io import loadmat\n",
    "import spectral\n",
    "from sklearn import preprocessing\n",
    "from sklearn.cluster import KMeans \n",
    "import pandas as pd\n",
    "from sklearn.model_selection import train_test_split\n",
    "from sklearn.svm import SVC\n",
    "from sklearn import metrics\n",
    "from xgboost import XGBClassifier\n",
    "from sklearn.decomposition import PCA\n",
    "from sklearn.ensemble import GradientBoostingClassifier\n",
    "from sklearn.ensemble import AdaBoostClassifier\n",
    "import lightgbm as lgb\n",
    "import joblib"
   ]
  },
  {
   "cell_type": "code",
   "execution_count": 269,
   "metadata": {},
   "outputs": [],
   "source": [
    "# 降维\n",
    "def pca_hpi(input_image, dimension=30):\n",
    "    spectral = list()\n",
    "    for i in range(input_image.shape[0]):\n",
    "        for j in range(input_image.shape[1]):\n",
    "            spectral.append(input_image[i][j,])\n",
    "    spectral_array = np.array(spectral)\n",
    "    ## 降维\n",
    "    pca = PCA(n_components=dimension)\n",
    "    pca.fit(spectral_array)\n",
    "    pca_input_iamge = pca.transform(spectral_array)\n",
    "    ## 姜维之后恢复 原来形状\n",
    "    pca_return_array = np.vsplit(pca_input_iamge,input_image.shape[0])\n",
    "    pca_return_array = np.array(pca_return_array)\n",
    "    #print (pca.explained_variance_ratio_)\n",
    "    return pca_return_array"
   ]
  },
  {
   "cell_type": "code",
   "execution_count": 3,
   "metadata": {},
   "outputs": [],
   "source": [
    "def trans(A):\n",
    "    A_c = A.transpose(2,1,0)\n",
    "    A_c = A_c.transpose(0,2,1)\n",
    "    return A_c"
   ]
  },
  {
   "cell_type": "code",
   "execution_count": 4,
   "metadata": {},
   "outputs": [],
   "source": [
    "# 原始高光谱数据\n",
    "inp = loadmat('I:\\data\\Indian_pines_corrected.mat')['indian_pines_corrected']"
   ]
  },
  {
   "cell_type": "code",
   "execution_count": 5,
   "metadata": {},
   "outputs": [],
   "source": [
    "# 转换坐标以后高光谱数据\n",
    "inp_c = inp.transpose(2,1,0)\n",
    "inp_c = inp_c.transpose(0,2,1)    "
   ]
  },
  {
   "cell_type": "code",
   "execution_count": 43,
   "metadata": {},
   "outputs": [
    {
     "data": {
      "text/plain": [
       "(200, 145, 145)"
      ]
     },
     "execution_count": 43,
     "metadata": {},
     "output_type": "execute_result"
    }
   ],
   "source": [
    "inp_c.shape"
   ]
  },
  {
   "cell_type": "code",
   "execution_count": 44,
   "metadata": {},
   "outputs": [
    {
     "data": {
      "text/plain": [
       "array([[3172, 2580, 3687, ..., 2570, 3170, 3172],\n",
       "       [2576, 2747, 2750, ..., 3859, 3686, 2744],\n",
       "       [2744, 2576, 2744, ..., 2570, 2576, 2742],\n",
       "       ...,\n",
       "       [3324, 2983, 2988, ..., 2564, 2730, 3156],\n",
       "       [3161, 2727, 2988, ..., 3156, 3159, 2561],\n",
       "       [2979, 2977, 2814, ..., 3153, 3155, 3323]], dtype=uint16)"
      ]
     },
     "execution_count": 44,
     "metadata": {},
     "output_type": "execute_result"
    }
   ],
   "source": [
    "# 验证成功\n",
    "s = list()\n",
    "for i in range(inp.shape[0]):\n",
    "    s.append(inp[i][:,0])\n",
    "e = np.vstack(item for item in s)\n",
    "e"
   ]
  },
  {
   "cell_type": "code",
   "execution_count": 45,
   "metadata": {},
   "outputs": [],
   "source": [
    "# 新的函数解法\n",
    "def split_one_channel(A,channel):\n",
    "    return A[channel-1]\n"
   ]
  },
  {
   "cell_type": "code",
   "execution_count": 46,
   "metadata": {},
   "outputs": [],
   "source": [
    "# 根据pacth大小对数据进行镜像化操作\n",
    "def mirror_matrix(A, fil):\n",
    "    pad =int((fil-1)/2)\n",
    "    for i in range(1,pad+1):\n",
    "        up = np.array(A[2*i-1,:])\n",
    "        down = np.array(A[-2*i,:])\n",
    "        Matrix_up_down = np.vstack([up,A,down])\n",
    "        left = np.array(Matrix_up_down[:,2*i-1]).reshape(len(Matrix_up_down),1)\n",
    "        right = np.array(Matrix_up_down[:,-2*i]).reshape(len(Matrix_up_down),1)\n",
    "        Matrix_left_right = np.hstack([left,Matrix_up_down,right,])\n",
    "        A = Matrix_left_right\n",
    "    return A\n",
    "# 参数说明\n",
    "# n   array size\n",
    "# fil  filter size5*5\n",
    "# pad = (fil-1)/2  padding大小"
   ]
  },
  {
   "cell_type": "code",
   "execution_count": 47,
   "metadata": {},
   "outputs": [],
   "source": [
    "# s = split_one_channel(inp_c,1)\n",
    "# s1 = mirror_matrix(s,3)"
   ]
  },
  {
   "cell_type": "code",
   "execution_count": 169,
   "metadata": {},
   "outputs": [],
   "source": [
    "# 将镜像处理后的矩阵进行向量化操作\n",
    "def split_array(A,fil):\n",
    "    s = []\n",
    "    row = len(A)-fil+1\n",
    "    col = len(A[0])-fil+1\n",
    "    for i in range(row): # row\n",
    "        for j in range(col): # col\n",
    "            temp = [0]* fil\n",
    "            for z in range(fil):\n",
    "                temp[z] = A[i+z,j:j+fil]\n",
    "            com = np.concatenate([item for item in temp ])\n",
    "            s.append(com)\n",
    "    return s "
   ]
  },
  {
   "cell_type": "code",
   "execution_count": 149,
   "metadata": {},
   "outputs": [
    {
     "data": {
      "text/plain": [
       "(21025, 9)"
      ]
     },
     "execution_count": 149,
     "metadata": {},
     "output_type": "execute_result"
    }
   ],
   "source": [
    "s = split_one_channel(inp_c,1)\n",
    "s1 = mirror_matrix(s,3)\n",
    "s2 = split_array(s1,3)\n",
    "s2.shape"
   ]
  },
  {
   "cell_type": "code",
   "execution_count": 50,
   "metadata": {},
   "outputs": [],
   "source": [
    "# 计算欧几里得距离\n",
    "def Euclidean(v1,v2):\n",
    "    return np.linalg.norm(v1-v2)"
   ]
  },
  {
   "cell_type": "code",
   "execution_count": 51,
   "metadata": {},
   "outputs": [],
   "source": [
    "# 计算单个patch的空间信息\n",
    "def patch_spitial(v1, K_centroid):\n",
    "    distance_array = np.array([Euclidean(v1, centroid) for centroid in K_centroid]) #距离matrix\n",
    "    sums = np.sum(distance_array)\n",
    "    average = np.average(distance_array)\n",
    "    spitial_one_patch = np.maximum(0,average - distance_array) #依据公式求空间信息\n",
    "    return spitial_one_patch"
   ]
  },
  {
   "cell_type": "code",
   "execution_count": 231,
   "metadata": {},
   "outputs": [],
   "source": [
    "#对一个channel的求解进行向量化\n",
    "def channel_spitial(channel_matrix, K_centroid):\n",
    "    channel_spitial_list = list()\n",
    "    for i in range(len(channel_matrix)):\n",
    "        channel_spitial_list.append(patch_spitial(channel_matrix[i], K_centroid))\n",
    "    return np.array(channel_spitial_list)\n",
    "\n",
    "# def channel_spitial(channel_matrix, K_centroid):\n",
    "#     g = (patch_spitial(channel_matrix[i], K_centroid) for i in range(len(channel_matrix)))\n",
    "#     channel_spitial_list = np.array(next(g))\n",
    "#     while True:\n",
    "#         try:\n",
    "#             channel_spitial_list = np.vstack((channel_spitial_list,next(g)))\n",
    "#         except StopIteration as e:\n",
    "#             channel_spitial_list = channel_spitial_list.reshape(channel_matrix.shape[0],K_centroid.shape[0])\n",
    "#     return channel_spitial_list"
   ]
  },
  {
   "cell_type": "markdown",
   "metadata": {},
   "source": [
    "#### 整体操作"
   ]
  },
  {
   "cell_type": "code",
   "execution_count": 59,
   "metadata": {},
   "outputs": [
    {
     "data": {
      "text/plain": [
       "(10, 145, 145)"
      ]
     },
     "execution_count": 59,
     "metadata": {},
     "output_type": "execute_result"
    }
   ],
   "source": [
    "inp_pca = pca_hpi(inp,10)\n",
    "inp_pca_c = trans(inp_pca)\n",
    "inp_pca_c.shape #后续测试的重点模块"
   ]
  },
  {
   "cell_type": "code",
   "execution_count": 172,
   "metadata": {},
   "outputs": [],
   "source": [
    "## 构造n个通道的向量\n",
    "# def create_whole_vector(dim,fil,input_image):\n",
    "#     whole_origin_matrix_array = np.array((split_one_channel(input_image,i) for i in range(1,dim+1)))\n",
    "#     whole_mirror_matrix_array = np.array((mirror_matrix(whole_origin_matrix_array[i],fil) for i in range(dim)))\n",
    "#     whole_split_matrix_array = np.array((split_array(whole_mirror_matrix_array[i],fil) for i in range(dim)))\n",
    "#     return whole_split_matrix_array\n",
    "\n",
    "def create_whole_vector(dim,fil,input_image):\n",
    "    # 生成器\n",
    "    pad =int((fil-1)/2)\n",
    "    s = (split_one_channel(input_image,i) for i in range(1,dim+1))\n",
    "    whole_origin_matrix_array = np.array(next(s))\n",
    "    while True:\n",
    "        try:\n",
    "            whole_origin_matrix_array = np.vstack((whole_origin_matrix_array,next(s)))\n",
    "        except StopIteration as e:\n",
    "            whole_origin_matrix_array = whole_origin_matrix_array.reshape(dim,input_image.shape[1],\n",
    "                                                                          input_image.shape[2])                                                                     \n",
    "            break\n",
    "    p = (mirror_matrix(whole_origin_matrix_array[i],fil) for i in range(dim))\n",
    "    whole_mirror_matrix_array = np.array(next(p))\n",
    "    while True:\n",
    "        try:\n",
    "            whole_mirror_matrix_array = np.vstack((whole_mirror_matrix_array, next(p)))\n",
    "        except StopIteration as e:\n",
    "            whole_mirror_matrix_array = whole_mirror_matrix_array.reshape(dim,input_image.shape[1]+pad*2,\n",
    "                                                                          input_image.shape[2]+pad*2)\n",
    "            break\n",
    "    t = (split_array(whole_mirror_matrix_array[i],fil) for i in range(dim))\n",
    "    whole_split_matrix_array = np.array(next(t))\n",
    "    while True:\n",
    "        try:\n",
    "            whole_split_matrix_array = np.vstack((whole_split_matrix_array, next(t)))\n",
    "        except StopIteration as e:\n",
    "            whole_split_matrix_array = whole_split_matrix_array.reshape(dim,input_image.shape[1]*input_image.shape[2],-1)\n",
    "            break\n",
    "    return  whole_split_matrix_array\n",
    "    "
   ]
  },
  {
   "cell_type": "code",
   "execution_count": 110,
   "metadata": {},
   "outputs": [],
   "source": [
    "s = (split_one_channel(inp_pca_c,i) for i in range(1,11))\n",
    "t = ((mirror_matrix(whole_origin_matrix_array[i],fil) for i in range(10)))\n",
    "p = np.array((split_array(whole_mirror_matrix_array[i],fil) for i in range(10)))"
   ]
  },
  {
   "cell_type": "code",
   "execution_count": 103,
   "metadata": {},
   "outputs": [],
   "source": [
    "whole_origin_matrix_array = whole_origin_matrix_array.reshape(10,145,145)"
   ]
  },
  {
   "cell_type": "code",
   "execution_count": 104,
   "metadata": {},
   "outputs": [
    {
     "data": {
      "text/plain": [
       "(10, 145, 145)"
      ]
     },
     "execution_count": 104,
     "metadata": {},
     "output_type": "execute_result"
    }
   ],
   "source": [
    "whole_origin_matrix_array.shape"
   ]
  },
  {
   "cell_type": "code",
   "execution_count": 99,
   "metadata": {},
   "outputs": [
    {
     "data": {
      "text/plain": [
       "(10, 145, 145)"
      ]
     },
     "execution_count": 99,
     "metadata": {},
     "output_type": "execute_result"
    }
   ],
   "source": [
    "whole_origin_matrix_array = np.array([split_one_channel(inp_pca_c,i) for i in range(1,10+1)])\n",
    "whole_origin_matrix_array.shape"
   ]
  },
  {
   "cell_type": "code",
   "execution_count": 126,
   "metadata": {},
   "outputs": [
    {
     "data": {
      "text/plain": [
       "(10, 145, 145)"
      ]
     },
     "execution_count": 126,
     "metadata": {},
     "output_type": "execute_result"
    }
   ],
   "source": [
    "s = (split_one_channel(inp_pca_c,i) for i in range(1,11))\n",
    "whole_origin_matrix_array = np.array(next(s))\n",
    "while True:\n",
    "    try :\n",
    "        whole_origin_matrix_array = np.vstack((whole_origin_matrix_array,next(s)))\n",
    "    except StopIteration as e:\n",
    "        whole_origin_matrix_array = whole_origin_matrix_array.reshape(10,145,145)\n",
    "        break\n",
    "whole_origin_matrix_array.shape"
   ]
  },
  {
   "cell_type": "code",
   "execution_count": 131,
   "metadata": {},
   "outputs": [
    {
     "data": {
      "text/plain": [
       "(10, 149, 149)"
      ]
     },
     "execution_count": 131,
     "metadata": {},
     "output_type": "execute_result"
    }
   ],
   "source": [
    "p = (mirror_matrix(whole_origin_matrix_array[i],5) for i in range(10))\n",
    "whole_mirror_matrix_array = np.array(next(p))\n",
    "while True:\n",
    "    try:\n",
    "        whole_mirror_matrix_array = np.vstack((whole_mirror_matrix_array, next(p)))\n",
    "    except StopIteration as e:\n",
    "        whole_mirror_matrix_array = whole_mirror_matrix_array.reshape(10,149,149)\n",
    "        break\n",
    "whole_mirror_matrix_array.shape\n",
    "# p = np.array([mirror_matrix(whole_origin_matrix_array[i],5) for i in range(10)])\n",
    "# p.shape"
   ]
  },
  {
   "cell_type": "code",
   "execution_count": 165,
   "metadata": {},
   "outputs": [
    {
     "data": {
      "text/plain": [
       "(10, 21025, 25)"
      ]
     },
     "execution_count": 165,
     "metadata": {},
     "output_type": "execute_result"
    }
   ],
   "source": [
    "t = (split_array(whole_mirror_matrix_array[i],5) for i in range(10))\n",
    "whole_split_matrix_array = np.array(next(t))\n",
    "while True:\n",
    "    try:\n",
    "        whole_split_matrix_array = np.vstack((whole_split_matrix_array, next(t)))\n",
    "    except StopIteration as e:\n",
    "        whole_split_matrix_array = whole_split_matrix_array.reshape(10,145*145,\n",
    "                                                                    -1)\n",
    "        break\n",
    "whole_split_matrix_array.shape"
   ]
  },
  {
   "cell_type": "code",
   "execution_count": 167,
   "metadata": {},
   "outputs": [
    {
     "data": {
      "text/plain": [
       "(21025, 25)"
      ]
     },
     "execution_count": 167,
     "metadata": {},
     "output_type": "execute_result"
    }
   ],
   "source": [
    "whole_split_matrix_array[0].shape"
   ]
  },
  {
   "cell_type": "code",
   "execution_count": 162,
   "metadata": {},
   "outputs": [
    {
     "data": {
      "text/plain": [
       "array([5388.45977357, 5168.89439332, 4972.35054889, 5168.89439332,\n",
       "       5388.45977357, 5440.19938001, 5184.03233959, 4595.43714484,\n",
       "       5184.03233959, 5440.19938001, 5796.13544234, 5601.38374305,\n",
       "       5014.90598496, 5601.38374305, 5796.13544234, 5440.19938001,\n",
       "       5184.03233959, 4595.43714484, 5184.03233959, 5440.19938001,\n",
       "       5388.45977357, 5168.89439332, 4972.35054889, 5168.89439332,\n",
       "       5388.45977357])"
      ]
     },
     "execution_count": 162,
     "metadata": {},
     "output_type": "execute_result"
    }
   ],
   "source": [
    "# t = (split_array(whole_mirror_matrix_array[i],5) for i in range(10))\n",
    "# next(t)\n",
    "# split_array(whole_mirror_matrix_array[0],5)\n",
    "split_array(whole_mirror_matrix_array[0],5)[0]"
   ]
  },
  {
   "cell_type": "code",
   "execution_count": null,
   "metadata": {},
   "outputs": [],
   "source": [
    "# whole_split_matrix_array = np.array([split_array(whole_mirror_matrix_array[i],5) for i in range(10)])\n",
    "# whole_split_matrix_array.shape"
   ]
  },
  {
   "cell_type": "code",
   "execution_count": 168,
   "metadata": {},
   "outputs": [],
   "source": [
    "def create_whole_vector(dim,fil,input_image):\n",
    "    # 生成器\n",
    "    pad =int((fil-1)/2)\n",
    "    s = (split_one_channel(input_image,i) for i in range(1,dim+1))\n",
    "    whole_origin_matrix_array = np.array(next(s))\n",
    "    while True:\n",
    "        try:\n",
    "            whole_origin_matrix_array = np.vstack((whole_origin_matrix_array,next(s)))\n",
    "        except StopIteration as e:\n",
    "            whole_origin_matrix_array = whole_origin_matrix_array.reshape(dim,input_image.shape[1],\n",
    "                                                                          input_image.shape[2])                                                                     \n",
    "            break\n",
    "    p = (mirror_matrix(whole_origin_matrix_array[i],fil) for i in range(dim))\n",
    "    whole_mirror_matrix_array = np.array(next(p))\n",
    "    while True:\n",
    "        try:\n",
    "            whole_mirror_matrix_array = np.vstack((whole_mirror_matrix_array, next(p)))\n",
    "        except StopIteration as e:\n",
    "            whole_mirror_matrix_array = whole_mirror_matrix_array.reshape(dim,input_image.shape[1]+pad*2,\n",
    "                                                                          input_image.shape[2]+pad*2)\n",
    "            break\n",
    "    t = (split_array(whole_mirror_matrix_array[i],fil) for i in range(dim))\n",
    "    whole_split_matrix_array = np.array(next(t))\n",
    "    while True:\n",
    "        try:\n",
    "            whole_split_matrix_array = np.vstack((whole_split_matrix_array, next(t)))\n",
    "        except StopIteration as e:\n",
    "            whole_split_matrix_array = whole_split_matrix_array.reshape(dim,input_image.shape[1]*input_image.shape[2],-1)\n",
    "            break\n",
    "    return  whole_split_matrix_array"
   ]
  },
  {
   "cell_type": "code",
   "execution_count": 171,
   "metadata": {},
   "outputs": [
    {
     "data": {
      "text/plain": [
       "(10, 21025, 25)"
      ]
     },
     "execution_count": 171,
     "metadata": {},
     "output_type": "execute_result"
    }
   ],
   "source": [
    "test = create_whole_vector(10,5,inp_pca_c)\n",
    "test.shape"
   ]
  },
  {
   "cell_type": "markdown",
   "metadata": {},
   "source": [
    "#### 通过 k-means求解中心矩阵"
   ]
  },
  {
   "cell_type": "code",
   "execution_count": 183,
   "metadata": {},
   "outputs": [],
   "source": [
    "## 通过k-means求解 whole_K_centroid\n",
    "K = 5\n",
    "# def create_centroid(K,dim,whole_split_matrix_array):\n",
    "#     whole_kmeans = [KMeans(n_clusters=K, random_state=0).fit(whole_split_matrix_array[i]) for i in range(dim)]\n",
    "#     whole_K_centroid = [whole_kmeans[i].cluster_centers_ for i in range(dim) ]\n",
    "#     return whole_K_centroid\n",
    "def create_centroid(K,dim,whole_split_matrix_array):\n",
    "    whole_kmeans = [KMeans(n_clusters=K, random_state=0).fit(whole_split_matrix_array[i]) for i in range(dim)] \n",
    "    t = (whole_kmeans[i].cluster_centers_ for i in range(dim))\n",
    "    whole_K_centroid = np.array(next(t))\n",
    "    while True:\n",
    "        try:\n",
    "            whole_K_centroid = np.vstack((whole_K_centroid,next(t)))\n",
    "        except StopIteration as e:\n",
    "            whole_K_centroid = whole_K_centroid.reshape(dim,K,-1)\n",
    "            break\n",
    "    \n",
    "    return whole_K_centroid"
   ]
  },
  {
   "cell_type": "code",
   "execution_count": 184,
   "metadata": {},
   "outputs": [
    {
     "data": {
      "text/plain": [
       "(10, 5, 25)"
      ]
     },
     "execution_count": 184,
     "metadata": {},
     "output_type": "execute_result"
    }
   ],
   "source": [
    "# s1 = np.array([KMeans(n_clusters=5, random_state=0).fit(test[i]) for i in range(10)])\n",
    "# s1[0].shape\n",
    "t1 = create_centroid(5,10,test)\n",
    "t1.shape"
   ]
  },
  {
   "cell_type": "markdown",
   "metadata": {},
   "source": [
    "#### 求整体空间信息"
   ]
  },
  {
   "cell_type": "code",
   "execution_count": 232,
   "metadata": {},
   "outputs": [],
   "source": [
    "def create_spe_spi(whole_K_centroid,whole_split_matrix_array,dim):\n",
    "    g = (channel_spitial(whole_split_matrix_array[i], whole_K_centroid[i])for i in range(whole_K_centroid.shape[0]))\n",
    "    whole_spitial  = np.array(next(g))\n",
    "    while True:\n",
    "        try:\n",
    "            whole_spitial = np.vstack((whole_spitial, next(g)))\n",
    "        except StopIteration as e:\n",
    "            whole_spitial = whole_spitial.reshape(dim,whole_split_matrix_array.shape[1],-1)\n",
    "            break\n",
    "    return whole_spitial"
   ]
  },
  {
   "cell_type": "code",
   "execution_count": 233,
   "metadata": {},
   "outputs": [
    {
     "data": {
      "text/plain": [
       "(10, 21025, 5)"
      ]
     },
     "execution_count": 233,
     "metadata": {},
     "output_type": "execute_result"
    }
   ],
   "source": [
    "s9 = create_spe_spi(t1,test,10)\n",
    "s9.shape"
   ]
  },
  {
   "cell_type": "code",
   "execution_count": 254,
   "metadata": {},
   "outputs": [],
   "source": [
    "###### 可选操作，将spectral-spitial信息以numpy形式保存\n",
    "def save_spe_spi(whole_spitial,path='I:\\data\\whole_spitial.npy'):\n",
    "    np.save(path,whole_spitial)\n",
    "###### 可选操作，载入数据\n",
    "def load_spe_spi(name):\n",
    "    s = np.load(name)\n",
    "    return s\n",
    "\n",
    "## 合成sample_with_lables\n",
    "def sample_with_lables(s,dim,output_image):\n",
    "    sample = np.hstack([s[i]for i in range(dim)])\n",
    "    label = output_image.reshape(len(sample),1)\n",
    "    sample_lb = np.hstack([sample,label])\n",
    "    return sample_lb\n",
    "\n",
    "\n",
    "## 提取出需要分类的数据\n",
    "def need_claasify(sample_lb):\n",
    "    sample_lab_fix_list = list()\n",
    "    for i in range(len(sample_lb)):\n",
    "        if sample_lb[i,-1] != 0:\n",
    "            sample_lab_fix_list.append(sample_lb[i,:])\n",
    "    sample_lab_fix = np.array(sample_lab_fix_list)\n",
    "    return sample_lab_fix\n",
    "\n",
    "\n",
    "## 将数据归一化并且存储：\n",
    "def scaler_save(sample_lab_fix, path = 'H:\\data\\spec_spi.csv'):\n",
    "    ## 归一化\n",
    "    data_D = preprocessing.StandardScaler().fit_transform(sample_lab_fix[:,:-1])\n",
    "    data_L = sample_lab_fix[:,-1]\n",
    "\n",
    "    ## 存储\n",
    "    new = np.column_stack((data_D, data_L))\n",
    "    new_ = pd.DataFrame(new)\n",
    "    new_.to_csv(path,header=False,index=False)\n",
    "    \n",
    "\n",
    "## 分类数据提取\n",
    "def classify_pre(path='H:\\data\\spec_spi.csv'):\n",
    "    data = pd.read_csv(path,header=None)\n",
    "    data = data.as_matrix()\n",
    "    data_D = data[:,:-1]\n",
    "    data_L = data[:,-1]\n",
    "    data_train, data_test, label_train, label_test = train_test_split(data_D,data_L,test_size=0.9)\n",
    "    return data_train, data_test, label_train, label_test"
   ]
  },
  {
   "cell_type": "code",
   "execution_count": 238,
   "metadata": {},
   "outputs": [],
   "source": [
    "spec_spi = s9"
   ]
  },
  {
   "cell_type": "code",
   "execution_count": 240,
   "metadata": {},
   "outputs": [],
   "source": [
    "output_image = loadmat('I:\\data\\Indian_pines_gt.mat')['indian_pines_gt']"
   ]
  },
  {
   "cell_type": "code",
   "execution_count": 242,
   "metadata": {},
   "outputs": [
    {
     "data": {
      "text/plain": [
       "(21025, 51)"
      ]
     },
     "execution_count": 242,
     "metadata": {},
     "output_type": "execute_result"
    }
   ],
   "source": [
    "sample_lb = sample_with_lables(spec_spi,10,output_image)\n",
    "sample_lb.shape"
   ]
  },
  {
   "cell_type": "code",
   "execution_count": 243,
   "metadata": {},
   "outputs": [
    {
     "data": {
      "text/plain": [
       "(10249, 51)"
      ]
     },
     "execution_count": 243,
     "metadata": {},
     "output_type": "execute_result"
    }
   ],
   "source": [
    "sample_lab_fix = need_claasify(sample_lb)\n",
    "sample_lab_fix.shape"
   ]
  },
  {
   "cell_type": "code",
   "execution_count": 258,
   "metadata": {},
   "outputs": [],
   "source": [
    "# 归一化后保存\n",
    "scaler_save(sample_lab_fix,path = 'I:\\data\\\\test.csv')"
   ]
  },
  {
   "cell_type": "code",
   "execution_count": 260,
   "metadata": {},
   "outputs": [],
   "source": [
    " #分类前置操作\n",
    "data_train, data_test, label_train, label_test = classify_pre(path='I:\\data\\\\test.csv')"
   ]
  },
  {
   "cell_type": "code",
   "execution_count": 261,
   "metadata": {},
   "outputs": [
    {
     "name": "stdout",
     "output_type": "stream",
     "text": [
      "81.1490514905149\n"
     ]
    },
    {
     "data": {
      "text/plain": [
       "['I:\\\\model\\\\pca_specr_spi_30.m']"
      ]
     },
     "execution_count": 261,
     "metadata": {},
     "output_type": "execute_result"
    }
   ],
   "source": [
    "# clf = lgb.LGBMClassifier()\n",
    "\n",
    "clf = SVC(kernel='linear')\n",
    "\n",
    "# # clf = XGBClassifier(max_depth=20,learning_rate=0.3,n_estimators=500,silent=False,\n",
    "#                        objective='multi:softmax',\n",
    "#                         min_child_weight=1,\n",
    "#                         gamma=0.,\n",
    "#                         scale_pos_weight=1)\n",
    "\n",
    "# clf = GradientBoostingClassifier(n_estimators=1000, learning_rate=0.5,\n",
    "#      max_depth=20, random_state=0)\n",
    "# clf = AdaBoostClassifier(\n",
    "#     SVC(kernel='linear'),\n",
    "#     n_estimators=2,\n",
    "#     learning_rate=1,\n",
    "#     algorithm=\"SAMME\")\n",
    "\n",
    "clf.fit(data_train,label_train)\n",
    "pred = clf.predict(data_test)\n",
    "accuracy = metrics.accuracy_score(label_test, pred)*100\n",
    "print(accuracy)\n",
    "# acc = clf.score(data_test, label_test)\n",
    "# print(acc)\n",
    "joblib.dump(clf,\"I:\\model\\pca_specr_spi_30.m\")"
   ]
  },
  {
   "cell_type": "code",
   "execution_count": 262,
   "metadata": {},
   "outputs": [
    {
     "data": {
      "text/plain": [
       "(145, 145)"
      ]
     },
     "execution_count": 262,
     "metadata": {},
     "output_type": "execute_result"
    }
   ],
   "source": [
    "# 新图像形状\n",
    "new_show = np.zeros((output_image.shape[0], output_image.shape[1]))\n",
    "new_show.shape"
   ]
  },
  {
   "cell_type": "code",
   "execution_count": 265,
   "metadata": {},
   "outputs": [
    {
     "name": "stdout",
     "output_type": "stream",
     "text": [
      "(10249, 50)\n",
      "(10249,)\n"
     ]
    }
   ],
   "source": [
    "## 提取所有数据\n",
    "testdata = np.genfromtxt('I:\\data\\\\test.csv',delimiter=',')\n",
    "data_test = testdata[:,:-1]\n",
    "label_test = testdata[:,-1]\n",
    "print(data_test.shape)\n",
    "print(label_test.shape)"
   ]
  },
  {
   "cell_type": "code",
   "execution_count": 266,
   "metadata": {},
   "outputs": [
    {
     "name": "stdout",
     "output_type": "stream",
     "text": [
      "82.26168406673821\n"
     ]
    }
   ],
   "source": [
    "#提取分类器并分类\n",
    "clf = joblib.load('I:\\model\\\\pca_specr_spi_30.m')\n",
    "predict_label = clf.predict(data_test)\n",
    "accuracy = metrics.accuracy_score(label_test,predict_label)*100\n",
    "print (accuracy)"
   ]
  },
  {
   "cell_type": "code",
   "execution_count": 267,
   "metadata": {},
   "outputs": [
    {
     "data": {
      "image/png": "[encoded data removed]",
      "text/plain": [
       "<Figure size 216x216 with 1 Axes>"
      ]
     },
     "metadata": {
      "needs_background": "light"
     },
     "output_type": "display_data"
    }
   ],
   "source": [
    "# 原图\n",
    "ground_truth = spectral.imshow(classes = output_image.astype(int),figsize =(3,3))"
   ]
  },
  {
   "cell_type": "code",
   "execution_count": 268,
   "metadata": {},
   "outputs": [
    {
     "data": {
      "image/png": "[encoded data removed]",
      "text/plain": [
       "<Figure size 216x216 with 1 Axes>"
      ]
     },
     "metadata": {
      "needs_background": "light"
     },
     "output_type": "display_data"
    }
   ],
   "source": [
    "# 构造分类图\n",
    "k = 0\n",
    "for i in range(output_image.shape[0]):\n",
    "    for j in range(output_image.shape[1]):\n",
    "        if output_image[i][j] != 0:\n",
    "            new_show[i][j] = predict_label[k]\n",
    "            k += 1\n",
    "# 分类效果图\n",
    "ground_truth = spectral.imshow(classes = new_show.astype(int),figsize =(3,3))"
   ]
  },
  {
   "cell_type": "code",
   "execution_count": null,
   "metadata": {},
   "outputs": [],
   "source": []
  }
 ],
 "metadata": {
  "kernelspec": {
   "display_name": "Python 3",
   "language": "python",
   "name": "python3"
  },
  "language_info": {
   "codemirror_mode": {
    "name": "ipython",
    "version": 3
   },
   "file_extension": ".py",
   "mimetype": "text/x-python",
   "name": "python",
   "nbconvert_exporter": "python",
   "pygments_lexer": "ipython3",
   "version": "3.6.4"
  }
 },
 "nbformat": 4,
 "nbformat_minor": 2
}
