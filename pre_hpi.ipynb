{
 "cells": [
  {
   "cell_type": "code",
   "execution_count": 1,
   "metadata": {},
   "outputs": [],
   "source": [
    "# 可以提取出高光谱数据的一个channel的数据 144*144\n",
    "def split_one_channel(A ,channel):\n",
    "    d = [0]*144\n",
    "    for i in range(144):\n",
    "        d[i] = input_image[i][:,channel-1]\n",
    "    e = np.vstack((d[i] for i in range(144)))\n",
    "    return e  \n",
    "# 参数说明\n",
    "# channel 通道\n",
    "# A 高光谱立方块"
   ]
  },
  {
   "cell_type": "code",
   "execution_count": 2,
   "metadata": {},
   "outputs": [],
   "source": [
    "# 依据patch大小（Filter 大小）对矩阵进行镜像处理\n",
    "def mirror_matrix(A, fil):\n",
    "    pad = int((fil-1)/2)\n",
    "    for i in range(1,pad+1): # up_down and left_right\n",
    "        up_down = np.array(A[2*i-1,:])\n",
    "        Matrix_up_down = np.vstack([up_down,A,up_down])\n",
    "        left_right = np.array(Matrix_up_down[:,2*i-1]).reshape(len(Matrix_up_down),1)\n",
    "        Matrix_left_right = np.hstack([left_right,Matrix_up_down,left_right])\n",
    "        A = Matrix_left_right\n",
    "    return A\n",
    "\n",
    "# 参数说明\n",
    "# n   array size\n",
    "# fil  filter size5*5\n",
    "# pad = (fil-1)/2  padding大小"
   ]
  },
  {
   "cell_type": "code",
   "execution_count": null,
   "metadata": {},
   "outputs": [],
   "source": [
    "# 将镜像处理后的矩阵进行向量化操作\n",
    "def split_array(A,fil):\n",
    "    s = []\n",
    "    for i in range(fil): # row\n",
    "        for j in range(fil): # col\n",
    "            temp = [0]* fil\n",
    "            for z in range(fil):\n",
    "                temp[z] = A[i+z,j:j+fil]\n",
    "            com = np.concatenate([item for item in temp ])\n",
    "            s.append(com)\n",
    "    return s\n",
    "# 参数说明\n",
    "# A 镜像处理后的矩阵\n"
   ]
  }
 ],
 "metadata": {
  "kernelspec": {
   "display_name": "Python 3",
   "language": "python",
   "name": "python3"
  },
  "language_info": {
   "codemirror_mode": {
    "name": "ipython",
    "version": 3
   },
   "file_extension": ".py",
   "mimetype": "text/x-python",
   "name": "python",
   "nbconvert_exporter": "python",
   "pygments_lexer": "ipython3",
   "version": "3.6.4"
  }
 },
 "nbformat": 4,
 "nbformat_minor": 2
}
