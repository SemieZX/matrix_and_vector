{
 "cells": [
  {
   "cell_type": "code",
   "execution_count": 1,
   "metadata": {},
   "outputs": [],
   "source": [
    "import numpy as np\n",
    "import matplotlib.pyplot as plt\n",
    "from scipy.io import loadmat\n",
    "#import spectral\n",
    "from sklearn import preprocessing\n",
    "from sklearn.cluster import KMeans \n",
    "import pandas as pd\n",
    "from sklearn.model_selection import train_test_split\n",
    "from sklearn.svm import SVC\n",
    "from sklearn import metrics\n",
    "#from xgboost import XGBClassifier\n",
    "from sklearn.decomposition import PCA\n",
    "#from sklearn.ensemble import GradientBoostingClassifier\n",
    "#from sklearn.ensemble import AdaBoostClassifier\n",
    "#import lightgbm as lgb\n",
    "import joblib"
   ]
  },
  {
   "cell_type": "markdown",
   "metadata": {},
   "source": [
    "### 定义相关函数"
   ]
  },
  {
   "cell_type": "code",
   "execution_count": 2,
   "metadata": {},
   "outputs": [],
   "source": [
    "## 降维操作\n",
    "def pca_hpi(input_image, dimension=30):\n",
    "    spectral = list()\n",
    "    for i in range(input_image.shape[0]):\n",
    "        for j in range(input_image.shape[1]):\n",
    "            spectral.append(input_image[i][j,])\n",
    "    spectral_array = np.array(spectral)\n",
    "    ## 降维\n",
    "    pca = PCA(n_components=dimension,svd_solver='auto')\n",
    "    pca.fit(spectral_array)\n",
    "    pca_input_iamge = pca.transform(spectral_array)\n",
    "    ## 姜维之后恢复 原来形状\n",
    "    pca_return_array = np.vsplit(pca_input_iamge,145)\n",
    "    pca_return_array = np.array(pca_return_array)\n",
    "    print (pca.explained_variance_ratio_)\n",
    "    return pca_return_array\n",
    "  \n",
    "  # 归一化后降维\n",
    "def pca_scal_hpi(input_image, dimension=30):\n",
    "    spectral = list()\n",
    "    for i in range(input_image.shape[0]):\n",
    "        for j in range(input_image.shape[1]):\n",
    "            spectral.append(input_image[i][j,])\n",
    "    spectral_array = np.array(spectral)\n",
    "    spectral_array = preprocessing.scale(spectral_array) # 归一化\n",
    "    pca = PCA(n_components=dimension,svd_solver='auto')\n",
    "    pca.fit(spectral_array)\n",
    "    pca_input_iamge = pca.transform(spectral_array)\n",
    "    ## 姜维之后恢复 原来形状\n",
    "    pca_return_array = np.vsplit(pca_input_iamge,145)\n",
    "    pca_return_array = np.array(pca_return_array)\n",
    "    print (pca.explained_variance_ratio_)\n",
    "    return pca_return_array \n",
    "\n",
    "# pca后降维\n",
    "def pca_scal_hpi(input_image, dimension=30):\n",
    "    spectral = list()\n",
    "    for i in range(input_image.shape[0]):\n",
    "        for j in range(input_image.shape[1]):\n",
    "            spectral.append(input_image[i][j,])\n",
    "    spectral_array = np.array(spectral)\n",
    "    ## 降维\n",
    "    pca = PCA(n_components=dimension,svd_solver='auto')\n",
    "    pca.fit(spectral_array)\n",
    "    pca_input_iamge = pca.transform(spectral_array)\n",
    "    # 归一化操作\n",
    "    pca_input_iamge = preprocessing.scale(pca_input_iamge)\n",
    "    ## 降维之后恢复 原来形状\n",
    "    pca_return_array = np.vsplit(pca_input_iamge,145)\n",
    "    pca_return_array = np.array(pca_return_array)\n",
    "    print (pca.explained_variance_ratio_)\n",
    "    return pca_return_array\n",
    "\n",
    "#####-------------------------------------------------- 生成 3D Tensor---------------------------########\n",
    "\n",
    "# 可以提取出高光谱数据的一个channel的数据 145*145\n",
    "def split_one_channel(A,channel):\n",
    "    row = A.shape[0]\n",
    "    d = [0]*row\n",
    "    for i in range(row):\n",
    "        d[i] = A[i][:,channel-1]\n",
    "    e = np.vstack((d[i] for i in range(row)))\n",
    "    return e   \n",
    "# 参数说明\n",
    "# channel 通道\n",
    "# A 高光谱立方块\n",
    "\n",
    "\n",
    "# 依据patch大小（Filter 大小）对矩阵进行镜像处理\n",
    "def mirror_matrix(A, fil):\n",
    "    pad = int((fil-1)/2)\n",
    "    for  i in range(1,pad+1):\n",
    "        up = np.array(A[2*i-1,:])\n",
    "        down = np.array(A[-2*i,:])\n",
    "        Matrix_up_down = np.vstack([up,A,down])\n",
    "        left = np.array(Matrix_up_down[:,2*i-1]).reshape(len(Matrix_up_down),1)\n",
    "        right = np.array(Matrix_up_down[:,-2*i]).reshape(len(Matrix_up_down),1)\n",
    "        Matrix_left_right = np.hstack([left,Matrix_up_down,right,])\n",
    "        A = Matrix_left_right\n",
    "    return A\n",
    "\n",
    "# 参数说明\n",
    "# n   array size\n",
    "# fil  filter size5*5\n",
    "# pad = (fil-1)/2  padding大小\n",
    "\n",
    "\n",
    "def recreate_whole_data(dim,fil,input_image):\n",
    "    whole_origin_matrix_array = np.array([split_one_channel(input_image,i) for i in range(1,dim+1)])\n",
    "    whole_mirror_matrix_array = np.array([mirror_matrix(whole_origin_matrix_array[i],fil) for i in range(dim)])\n",
    "    return whole_mirror_matrix_array\n",
    "\n",
    "\n",
    "## 分割patch  work out 一个维度的patch\n",
    "def create_patch_one(A,fil):\n",
    "    whole_arr = list()\n",
    "    row = A.shape[0]-fil+1\n",
    "    column = A.shape[1]-fil+1\n",
    "    for i in range(row):\n",
    "        for j in range(column):\n",
    "            temp_arr = list()\n",
    "            for z in range(fil):\n",
    "                p = A[i+z,j:j+fil]\n",
    "                temp_arr.append(p)\n",
    "            one_arr = np.vstack(temp_arr)\n",
    "            whole_arr.append(one_arr)\n",
    "    return np.array(whole_arr)\n",
    "    \n",
    "def create_patch_whole(A,fil,dim):\n",
    "    temp = [create_patch_one(split_one_channel(A,i),fil) for i in range(1,dim+1)]\n",
    "    return np.array(temp)\n",
    "\n",
    "\n",
    "def create_patch_cube(patch,fil,dim):\n",
    "    temp = list()\n",
    "    nums = patch[0].shape[0] # the nums of every dim of windows  n - f + 1\n",
    "    for j in range(nums):\n",
    "        temp_re = np.vstack([patch[i][j] for i in range(dim)]).reshape(dim,fil,fil)\n",
    "        temp_re1= temp_re.transpose(2,1,0) # switch 1,3 dim\n",
    "        temp_re2 = temp_re1.transpose(1,0,2) # switch 1,2 dim\n",
    "        temp.append(temp_re2)\n",
    "    patch_cubes = np.array(temp)\n",
    "    return patch_cubes\n",
    "\n",
    "def whole_sample_lable(patch_cubes):\n",
    "    sample_lable_list = list()\n",
    "    for i in range(len(patch_cubes)):\n",
    "            sample_lable_list.append((patch_cubes[i],out_labels[i]))\n",
    "    whole_sample_lable_array = np.array(sample_lable_list)\n",
    "    return whole_sample_lable_array\n",
    "\n",
    "# 提取有用的标签\n",
    "def useful_sample_lable(patch_cubes):\n",
    "    sample_lable_list = list()\n",
    "    for i in range(len(patch_cubes)):\n",
    "        if out_labels[i] != 0:\n",
    "            sample_lable_list.append((patch_cubes[i],out_labels[i]))\n",
    "    sample_lable_array = np.array(sample_lable_list)\n",
    "    return sample_lable_array\n",
    "\n",
    "  \n",
    "# 存储numpy文件\n",
    "def save_sample_label(sample_lable_array,path='H:\\data\\sample_lable_array'):\n",
    "    np.save(path,sample_lable_array)\n",
    "    \n",
    "# 载入numpy文件\n",
    "def load_sample_label(name):\n",
    "    s = np.load(name)\n",
    "    return s\n",
    "  \n",
    "  \n",
    "# ## 将数据存储：\n",
    "# def scaler_save(sample_lab_fix, path = 'H:\\data\\spec_spi.csv'):\n",
    "#     ## 没有归一化\n",
    "#     data_D = sample_lab_fix[:,:-1]\n",
    "#     data_L = sample_lab_fix[:,-1]\n",
    "\n",
    "#     ## 存储\n",
    "#     new = np.column_stack((data_D, data_L))\n",
    "#     new_ = pd.DataFrame(new)\n",
    "#     new_.to_csv(path,header=False,index=False)\n",
    "\n",
    "#     ## 分类数据提取\n",
    "# def classify_pre(path='H:\\data\\spec_spi.csv'):\n",
    "#     data = pd.read_csv(path,header=None)\n",
    "#     data = data.as_matrix()\n",
    "#     data_D = data[:,:-1]\n",
    "#     data_L = data[:,-1]\n",
    "#     data_train, data_test, label_train, label_test = train_test_split(data_D,data_L,test_size=0.9)\n",
    "#     return data_train, data_test, label_train, label_test"
   ]
  },
  {
   "cell_type": "markdown",
   "metadata": {},
   "source": [
    "### 数据预处理"
   ]
  },
  {
   "cell_type": "code",
   "execution_count": 3,
   "metadata": {},
   "outputs": [],
   "source": [
    "DIM = 10\n",
    "FIL = 5"
   ]
  },
  {
   "cell_type": "code",
   "execution_count": 4,
   "metadata": {},
   "outputs": [],
   "source": [
    "inp = loadmat('F:\\data\\Indian_pines_corrected.mat')['indian_pines_corrected']\n",
    "out = loadmat('F:\\data\\Indian_pines_gt.mat')['indian_pines_gt']"
   ]
  },
  {
   "cell_type": "code",
   "execution_count": 5,
   "metadata": {},
   "outputs": [
    {
     "name": "stdout",
     "output_type": "stream",
     "text": [
      "[0.68493799 0.23531371 0.01496355 0.00821542 0.00695011 0.00517011\n",
      " 0.00399681 0.0036236  0.00307127 0.00293212]\n"
     ]
    }
   ],
   "source": [
    "pca_return_array_alpha = pca_scal_hpi(inp,DIM) # pca"
   ]
  },
  {
   "cell_type": "code",
   "execution_count": 6,
   "metadata": {},
   "outputs": [],
   "source": [
    "pca_return_array_beta = recreate_whole_data(DIM,FIL,pca_return_array_alpha) # padd 并镜像"
   ]
  },
  {
   "cell_type": "code",
   "execution_count": 7,
   "metadata": {},
   "outputs": [
    {
     "data": {
      "text/plain": [
       "(10, 149, 149)"
      ]
     },
     "execution_count": 7,
     "metadata": {},
     "output_type": "execute_result"
    }
   ],
   "source": [
    "pca_return_array_beta.shape # 145+2*（f-1）/2"
   ]
  },
  {
   "cell_type": "code",
   "execution_count": 8,
   "metadata": {},
   "outputs": [],
   "source": [
    "## 将pca_return beta 变为 149--3  x  149--2  x 30 形状\n",
    "pca_return_array_beta = pca_return_array_beta.transpose(2,1,0) #switch dim 1,3"
   ]
  },
  {
   "cell_type": "code",
   "execution_count": 9,
   "metadata": {},
   "outputs": [
    {
     "data": {
      "text/plain": [
       "(149, 149, 10)"
      ]
     },
     "execution_count": 9,
     "metadata": {},
     "output_type": "execute_result"
    }
   ],
   "source": [
    "pca_return_array_beta.shape"
   ]
  },
  {
   "cell_type": "code",
   "execution_count": 10,
   "metadata": {},
   "outputs": [],
   "source": [
    "pca_return_array_beta = pca_return_array_beta.transpose(1,0,2) # switch dim 1,2"
   ]
  },
  {
   "cell_type": "code",
   "execution_count": 11,
   "metadata": {},
   "outputs": [
    {
     "data": {
      "text/plain": [
       "(149, 149, 10)"
      ]
     },
     "execution_count": 11,
     "metadata": {},
     "output_type": "execute_result"
    }
   ],
   "source": [
    "pca_return_array_beta.shape"
   ]
  },
  {
   "cell_type": "code",
   "execution_count": 12,
   "metadata": {},
   "outputs": [],
   "source": [
    "## ## 将每个 filxfil (5x5)的patch取出来， 并将每个channel的信息放入一个集合\n",
    "patch_dim = create_patch_whole(pca_return_array_beta,FIL,DIM)"
   ]
  },
  {
   "cell_type": "code",
   "execution_count": 13,
   "metadata": {},
   "outputs": [
    {
     "data": {
      "text/plain": [
       "(10, 21025, 5, 5)"
      ]
     },
     "execution_count": 13,
     "metadata": {},
     "output_type": "execute_result"
    }
   ],
   "source": [
    "patch_dim.shape  # 30 个dim  every dim 21025个window (sample)    window(5x5)"
   ]
  },
  {
   "cell_type": "code",
   "execution_count": 14,
   "metadata": {},
   "outputs": [],
   "source": [
    "patch_cubes = create_patch_cube(patch_dim,FIL, DIM)"
   ]
  },
  {
   "cell_type": "code",
   "execution_count": 15,
   "metadata": {},
   "outputs": [
    {
     "data": {
      "text/plain": [
       "(21025, 5, 5, 10)"
      ]
     },
     "execution_count": 15,
     "metadata": {},
     "output_type": "execute_result"
    }
   ],
   "source": [
    "patch_cubes.shape   # 21025个 sample 每个sample是一个patch 30dim  5x5"
   ]
  },
  {
   "cell_type": "code",
   "execution_count": 16,
   "metadata": {},
   "outputs": [],
   "source": [
    "out_labels = out.reshape(145*145,)"
   ]
  },
  {
   "cell_type": "code",
   "execution_count": 17,
   "metadata": {},
   "outputs": [],
   "source": [
    "sample_lable_array = useful_sample_lable(patch_cubes)"
   ]
  },
  {
   "cell_type": "code",
   "execution_count": 18,
   "metadata": {},
   "outputs": [
    {
     "data": {
      "text/plain": [
       "(10249, 2)"
      ]
     },
     "execution_count": 18,
     "metadata": {},
     "output_type": "execute_result"
    }
   ],
   "source": [
    "sample_lable_array.shape  # 10249个样本 ，2个values, 1st sample ,  2st lables"
   ]
  },
  {
   "cell_type": "code",
   "execution_count": 19,
   "metadata": {},
   "outputs": [
    {
     "data": {
      "text/plain": [
       "(5, 5, 10)"
      ]
     },
     "execution_count": 19,
     "metadata": {},
     "output_type": "execute_result"
    }
   ],
   "source": [
    "sample_lable_array[0][0].shape"
   ]
  },
  {
   "cell_type": "code",
   "execution_count": 20,
   "metadata": {},
   "outputs": [],
   "source": [
    "save_sample_label(sample_lable_array,path='F:\\data\\sample_lable_array')"
   ]
  },
  {
   "cell_type": "code",
   "execution_count": 21,
   "metadata": {},
   "outputs": [],
   "source": [
    "whole_data = load_sample_label('F:\\data\\sample_lable_array.npy')"
   ]
  },
  {
   "cell_type": "code",
   "execution_count": 22,
   "metadata": {},
   "outputs": [
    {
     "data": {
      "text/plain": [
       "(10249, 2)"
      ]
     },
     "execution_count": 22,
     "metadata": {},
     "output_type": "execute_result"
    }
   ],
   "source": [
    "whole_data.shape"
   ]
  },
  {
   "cell_type": "code",
   "execution_count": 23,
   "metadata": {},
   "outputs": [],
   "source": [
    "Data = np.array([whole_data[:,0][i]for i in range(whole_data.shape[0])])  ## 取出数据"
   ]
  },
  {
   "cell_type": "code",
   "execution_count": 24,
   "metadata": {},
   "outputs": [
    {
     "data": {
      "text/plain": [
       "(10249, 5, 5, 10)"
      ]
     },
     "execution_count": 24,
     "metadata": {},
     "output_type": "execute_result"
    }
   ],
   "source": [
    "Data.shape"
   ]
  },
  {
   "cell_type": "markdown",
   "metadata": {},
   "source": [
    "## 定义模型"
   ]
  },
  {
   "cell_type": "code",
   "execution_count": 25,
   "metadata": {},
   "outputs": [
    {
     "name": "stderr",
     "output_type": "stream",
     "text": [
      "Using TensorFlow backend.\n"
     ]
    }
   ],
   "source": [
    "import keras\n",
    "from keras.models import Sequential\n",
    "from keras.layers import Dense, Dropout, Activation, Flatten\n",
    "from keras.layers import Conv2D,MaxPooling2D\n",
    "from keras.optimizers import SGD\n",
    "from keras.optimizers import Adam\n",
    "\n",
    "model = Sequential()\n",
    "# input : 5x5 patch with 30 channels - > (5,5,30)\n",
    "# layer1 Conv2d  3 x 3 = 90 filters\n",
    "model.add(Conv2D(10, (3, 3), activation='relu', input_shape=(5, 5, 10)))\n",
    "\n",
    "model.add(Conv2D(20, (3, 3), activation='relu'))\n",
    "\n",
    "model.add(Flatten())          \n",
    "model.add(Dense(160, activation='relu'))\n",
    "model.add(Dense(80, activation='relu'))\n",
    "model.add(Dense(16, activation='softmax'))\n",
    "          \n",
    "sgd = SGD(lr=0.005, decay=1e-6, momentum=0.9, nesterov=True)\n",
    "#adam = Adam(lr=1e-4)\n",
    "# model.compile(loss='categorical_crossentropy', optimizer=sgd)\n",
    "model.compile(optimizer=sgd,\n",
    "              loss='categorical_crossentropy',\n",
    "              metrics=['accuracy'])"
   ]
  },
  {
   "cell_type": "code",
   "execution_count": 26,
   "metadata": {},
   "outputs": [],
   "source": [
    "Lable = sample_lable_array[:,-1] -1 ## 取出标签\n",
    "lable_ = keras.utils.to_categorical(Lable,num_classes=16)"
   ]
  },
  {
   "cell_type": "code",
   "execution_count": 27,
   "metadata": {},
   "outputs": [
    {
     "data": {
      "text/plain": [
       "(10249, 5, 5, 10)"
      ]
     },
     "execution_count": 27,
     "metadata": {},
     "output_type": "execute_result"
    }
   ],
   "source": [
    "Data.shape"
   ]
  },
  {
   "cell_type": "code",
   "execution_count": 28,
   "metadata": {},
   "outputs": [],
   "source": [
    "data_train, data_test, lable_train, lable_test = train_test_split(Data,lable_,test_size=0.9) ## 分割训练测试集合"
   ]
  },
  {
   "cell_type": "code",
   "execution_count": 29,
   "metadata": {},
   "outputs": [
    {
     "data": {
      "text/plain": [
       "(1024, 5, 5, 10)"
      ]
     },
     "execution_count": 29,
     "metadata": {},
     "output_type": "execute_result"
    }
   ],
   "source": [
    "data_train.shape"
   ]
  },
  {
   "cell_type": "code",
   "execution_count": 30,
   "metadata": {},
   "outputs": [
    {
     "data": {
      "text/plain": [
       "(9225, 5, 5, 10)"
      ]
     },
     "execution_count": 30,
     "metadata": {},
     "output_type": "execute_result"
    }
   ],
   "source": [
    "data_test.shape"
   ]
  },
  {
   "cell_type": "code",
   "execution_count": 31,
   "metadata": {},
   "outputs": [
    {
     "data": {
      "text/plain": [
       "(1024, 16)"
      ]
     },
     "execution_count": 31,
     "metadata": {},
     "output_type": "execute_result"
    }
   ],
   "source": [
    "lable_train.shape"
   ]
  },
  {
   "cell_type": "code",
   "execution_count": 32,
   "metadata": {},
   "outputs": [
    {
     "data": {
      "text/plain": [
       "(9225, 16)"
      ]
     },
     "execution_count": 32,
     "metadata": {},
     "output_type": "execute_result"
    }
   ],
   "source": [
    "lable_test.shape"
   ]
  },
  {
   "cell_type": "code",
   "execution_count": 33,
   "metadata": {},
   "outputs": [
    {
     "name": "stdout",
     "output_type": "stream",
     "text": [
      "Training ------------------------\n",
      "Epoch 1/100\n",
      "1024/1024 [==============================] - 0s 422us/step - loss: 2.7162 - acc: 0.1377\n",
      "Epoch 2/100\n",
      "1024/1024 [==============================] - 0s 147us/step - loss: 2.3495 - acc: 0.2432\n",
      "Epoch 3/100\n",
      "1024/1024 [==============================] - 0s 158us/step - loss: 1.9438 - acc: 0.4102\n",
      "Epoch 4/100\n",
      "1024/1024 [==============================] - 0s 140us/step - loss: 1.6218 - acc: 0.4746\n",
      "Epoch 5/100\n",
      "1024/1024 [==============================] - 0s 142us/step - loss: 1.3659 - acc: 0.5205\n",
      "Epoch 6/100\n",
      "1024/1024 [==============================] - 0s 155us/step - loss: 1.2259 - acc: 0.5508\n",
      "Epoch 7/100\n",
      "1024/1024 [==============================] - 0s 149us/step - loss: 1.1443 - acc: 0.5820\n",
      "Epoch 8/100\n",
      "1024/1024 [==============================] - 0s 137us/step - loss: 1.0522 - acc: 0.5791\n",
      "Epoch 9/100\n",
      "1024/1024 [==============================] - 0s 144us/step - loss: 1.0055 - acc: 0.6025\n",
      "Epoch 10/100\n",
      "1024/1024 [==============================] - 0s 141us/step - loss: 0.9439 - acc: 0.6309\n",
      "Epoch 11/100\n",
      "1024/1024 [==============================] - 0s 155us/step - loss: 0.8915 - acc: 0.6494\n",
      "Epoch 12/100\n",
      "1024/1024 [==============================] - 0s 143us/step - loss: 0.8434 - acc: 0.6680\n",
      "Epoch 13/100\n",
      "1024/1024 [==============================] - 0s 166us/step - loss: 0.7973 - acc: 0.6973\n",
      "Epoch 14/100\n",
      "1024/1024 [==============================] - 0s 162us/step - loss: 0.7581 - acc: 0.7021\n",
      "Epoch 15/100\n",
      "1024/1024 [==============================] - 0s 146us/step - loss: 0.7325 - acc: 0.7236\n",
      "Epoch 16/100\n",
      "1024/1024 [==============================] - 0s 150us/step - loss: 0.7002 - acc: 0.7383\n",
      "Epoch 17/100\n",
      "1024/1024 [==============================] - 0s 134us/step - loss: 0.6674 - acc: 0.7422\n",
      "Epoch 18/100\n",
      "1024/1024 [==============================] - 0s 147us/step - loss: 0.6375 - acc: 0.7490\n",
      "Epoch 19/100\n",
      "1024/1024 [==============================] - 0s 155us/step - loss: 0.5895 - acc: 0.7803\n",
      "Epoch 20/100\n",
      "1024/1024 [==============================] - 0s 159us/step - loss: 0.5539 - acc: 0.8027\n",
      "Epoch 21/100\n",
      "1024/1024 [==============================] - 0s 147us/step - loss: 0.5463 - acc: 0.8066\n",
      "Epoch 22/100\n",
      "1024/1024 [==============================] - 0s 144us/step - loss: 0.5000 - acc: 0.8105\n",
      "Epoch 23/100\n",
      "1024/1024 [==============================] - 0s 146us/step - loss: 0.4620 - acc: 0.8359\n",
      "Epoch 24/100\n",
      "1024/1024 [==============================] - 0s 147us/step - loss: 0.4493 - acc: 0.8320\n",
      "Epoch 25/100\n",
      "1024/1024 [==============================] - 0s 172us/step - loss: 0.3948 - acc: 0.8623\n",
      "Epoch 26/100\n",
      "1024/1024 [==============================] - 0s 146us/step - loss: 0.3926 - acc: 0.8574\n",
      "Epoch 27/100\n",
      "1024/1024 [==============================] - 0s 165us/step - loss: 0.3650 - acc: 0.8613\n",
      "Epoch 28/100\n",
      "1024/1024 [==============================] - 0s 146us/step - loss: 0.3425 - acc: 0.8848\n",
      "Epoch 29/100\n",
      "1024/1024 [==============================] - 0s 151us/step - loss: 0.3314 - acc: 0.8701\n",
      "Epoch 30/100\n",
      "1024/1024 [==============================] - 0s 155us/step - loss: 0.2897 - acc: 0.8906\n",
      "Epoch 31/100\n",
      "1024/1024 [==============================] - 0s 152us/step - loss: 0.2827 - acc: 0.9053\n",
      "Epoch 32/100\n",
      "1024/1024 [==============================] - 0s 142us/step - loss: 0.2707 - acc: 0.9092\n",
      "Epoch 33/100\n",
      "1024/1024 [==============================] - 0s 155us/step - loss: 0.2558 - acc: 0.9082\n",
      "Epoch 34/100\n",
      "1024/1024 [==============================] - 0s 157us/step - loss: 0.2446 - acc: 0.9082\n",
      "Epoch 35/100\n",
      "1024/1024 [==============================] - 0s 149us/step - loss: 0.2089 - acc: 0.9219\n",
      "Epoch 36/100\n",
      "1024/1024 [==============================] - 0s 170us/step - loss: 0.1972 - acc: 0.9297\n",
      "Epoch 37/100\n",
      "1024/1024 [==============================] - 0s 146us/step - loss: 0.1730 - acc: 0.9453\n",
      "Epoch 38/100\n",
      "1024/1024 [==============================] - 0s 159us/step - loss: 0.1696 - acc: 0.9453\n",
      "Epoch 39/100\n",
      "1024/1024 [==============================] - 0s 157us/step - loss: 0.1635 - acc: 0.9473\n",
      "Epoch 40/100\n",
      "1024/1024 [==============================] - 0s 149us/step - loss: 0.1609 - acc: 0.9561\n",
      "Epoch 41/100\n",
      "1024/1024 [==============================] - 0s 148us/step - loss: 0.1250 - acc: 0.9619\n",
      "Epoch 42/100\n",
      "1024/1024 [==============================] - 0s 155us/step - loss: 0.1319 - acc: 0.9580\n",
      "Epoch 43/100\n",
      "1024/1024 [==============================] - ETA: 0s - loss: 0.1354 - acc: 0.959 - 0s 173us/step - loss: 0.1395 - acc: 0.9600\n",
      "Epoch 44/100\n",
      "1024/1024 [==============================] - 0s 169us/step - loss: 0.1460 - acc: 0.9482\n",
      "Epoch 45/100\n",
      "1024/1024 [==============================] - 0s 147us/step - loss: 0.1263 - acc: 0.9639\n",
      "Epoch 46/100\n",
      "1024/1024 [==============================] - 0s 144us/step - loss: 0.0966 - acc: 0.9746\n",
      "Epoch 47/100\n",
      "1024/1024 [==============================] - 0s 151us/step - loss: 0.1085 - acc: 0.9668\n",
      "Epoch 48/100\n",
      "1024/1024 [==============================] - 0s 152us/step - loss: 0.2161 - acc: 0.9434\n",
      "Epoch 49/100\n",
      "1024/1024 [==============================] - 0s 144us/step - loss: 0.1120 - acc: 0.9619\n",
      "Epoch 50/100\n",
      "1024/1024 [==============================] - 0s 149us/step - loss: 0.0979 - acc: 0.9688\n",
      "Epoch 51/100\n",
      "1024/1024 [==============================] - 0s 150us/step - loss: 0.0868 - acc: 0.9717\n",
      "Epoch 52/100\n",
      "1024/1024 [==============================] - 0s 151us/step - loss: 0.0583 - acc: 0.9883\n",
      "Epoch 53/100\n",
      "1024/1024 [==============================] - 0s 151us/step - loss: 0.0637 - acc: 0.9785\n",
      "Epoch 54/100\n",
      "1024/1024 [==============================] - 0s 146us/step - loss: 0.0621 - acc: 0.9824\n",
      "Epoch 55/100\n",
      "1024/1024 [==============================] - 0s 149us/step - loss: 0.0443 - acc: 0.9883\n",
      "Epoch 56/100\n",
      "1024/1024 [==============================] - 0s 157us/step - loss: 0.0461 - acc: 0.9893\n",
      "Epoch 57/100\n",
      "1024/1024 [==============================] - 0s 152us/step - loss: 0.0701 - acc: 0.9824\n",
      "Epoch 58/100\n",
      "1024/1024 [==============================] - 0s 148us/step - loss: 0.0282 - acc: 0.9951\n",
      "Epoch 59/100\n",
      "1024/1024 [==============================] - 0s 150us/step - loss: 0.0265 - acc: 0.9951\n",
      "Epoch 60/100\n",
      "1024/1024 [==============================] - 0s 162us/step - loss: 0.0256 - acc: 0.9980\n",
      "Epoch 61/100\n",
      "1024/1024 [==============================] - 0s 150us/step - loss: 0.0238 - acc: 0.9961\n",
      "Epoch 62/100\n",
      "1024/1024 [==============================] - 0s 148us/step - loss: 0.0153 - acc: 0.9990\n",
      "Epoch 63/100\n",
      "1024/1024 [==============================] - 0s 148us/step - loss: 0.0147 - acc: 0.9980\n",
      "Epoch 64/100\n",
      "1024/1024 [==============================] - 0s 147us/step - loss: 0.0114 - acc: 1.0000\n",
      "Epoch 65/100\n",
      "1024/1024 [==============================] - 0s 154us/step - loss: 0.0088 - acc: 1.0000\n",
      "Epoch 66/100\n",
      "1024/1024 [==============================] - 0s 154us/step - loss: 0.0079 - acc: 1.0000\n",
      "Epoch 67/100\n",
      "1024/1024 [==============================] - 0s 151us/step - loss: 0.0072 - acc: 1.0000\n",
      "Epoch 68/100\n",
      "1024/1024 [==============================] - 0s 147us/step - loss: 0.0067 - acc: 1.0000\n",
      "Epoch 69/100\n",
      "1024/1024 [==============================] - 0s 156us/step - loss: 0.0063 - acc: 1.0000\n",
      "Epoch 70/100\n",
      "1024/1024 [==============================] - 0s 145us/step - loss: 0.0059 - acc: 1.0000\n",
      "Epoch 71/100\n",
      "1024/1024 [==============================] - 0s 149us/step - loss: 0.0054 - acc: 1.0000\n",
      "Epoch 72/100\n",
      "1024/1024 [==============================] - 0s 148us/step - loss: 0.0055 - acc: 1.0000\n",
      "Epoch 73/100\n",
      "1024/1024 [==============================] - 0s 151us/step - loss: 0.0050 - acc: 1.0000\n",
      "Epoch 74/100\n",
      "1024/1024 [==============================] - 0s 152us/step - loss: 0.0047 - acc: 1.0000\n",
      "Epoch 75/100\n",
      "1024/1024 [==============================] - 0s 146us/step - loss: 0.0044 - acc: 1.0000\n",
      "Epoch 76/100\n",
      "1024/1024 [==============================] - 0s 172us/step - loss: 0.0042 - acc: 1.0000\n",
      "Epoch 77/100\n",
      "1024/1024 [==============================] - 0s 152us/step - loss: 0.0041 - acc: 1.0000\n",
      "Epoch 78/100\n",
      "1024/1024 [==============================] - 0s 153us/step - loss: 0.0039 - acc: 1.0000\n",
      "Epoch 79/100\n",
      "1024/1024 [==============================] - 0s 146us/step - loss: 0.0038 - acc: 1.0000\n",
      "Epoch 80/100\n",
      "1024/1024 [==============================] - 0s 140us/step - loss: 0.0036 - acc: 1.0000\n",
      "Epoch 81/100\n"
     ]
    },
    {
     "name": "stdout",
     "output_type": "stream",
     "text": [
      "1024/1024 [==============================] - 0s 143us/step - loss: 0.0034 - acc: 1.0000\n",
      "Epoch 82/100\n",
      "1024/1024 [==============================] - 0s 141us/step - loss: 0.0034 - acc: 1.0000\n",
      "Epoch 83/100\n",
      "1024/1024 [==============================] - 0s 146us/step - loss: 0.0032 - acc: 1.0000\n",
      "Epoch 84/100\n",
      "1024/1024 [==============================] - 0s 141us/step - loss: 0.0031 - acc: 1.0000\n",
      "Epoch 85/100\n",
      "1024/1024 [==============================] - 0s 159us/step - loss: 0.0030 - acc: 1.0000\n",
      "Epoch 86/100\n",
      "1024/1024 [==============================] - 0s 144us/step - loss: 0.0029 - acc: 1.0000\n",
      "Epoch 87/100\n",
      "1024/1024 [==============================] - 0s 153us/step - loss: 0.0028 - acc: 1.0000\n",
      "Epoch 88/100\n",
      "1024/1024 [==============================] - 0s 144us/step - loss: 0.0028 - acc: 1.0000\n",
      "Epoch 89/100\n",
      "1024/1024 [==============================] - 0s 138us/step - loss: 0.0027 - acc: 1.0000\n",
      "Epoch 90/100\n",
      "1024/1024 [==============================] - 0s 154us/step - loss: 0.0026 - acc: 1.0000\n",
      "Epoch 91/100\n",
      "1024/1024 [==============================] - 0s 141us/step - loss: 0.0025 - acc: 1.0000\n",
      "Epoch 92/100\n",
      "1024/1024 [==============================] - 0s 149us/step - loss: 0.0024 - acc: 1.0000\n",
      "Epoch 93/100\n",
      "1024/1024 [==============================] - 0s 147us/step - loss: 0.0023 - acc: 1.0000\n",
      "Epoch 94/100\n",
      "1024/1024 [==============================] - 0s 143us/step - loss: 0.0023 - acc: 1.0000\n",
      "Epoch 95/100\n",
      "1024/1024 [==============================] - 0s 146us/step - loss: 0.0023 - acc: 1.0000\n",
      "Epoch 96/100\n",
      "1024/1024 [==============================] - 0s 143us/step - loss: 0.0023 - acc: 1.0000\n",
      "Epoch 97/100\n",
      "1024/1024 [==============================] - 0s 141us/step - loss: 0.0022 - acc: 1.0000\n",
      "Epoch 98/100\n",
      "1024/1024 [==============================] - ETA: 0s - loss: 0.0022 - acc: 1.000 - 0s 144us/step - loss: 0.0021 - acc: 1.0000\n",
      "Epoch 99/100\n",
      "1024/1024 [==============================] - 0s 155us/step - loss: 0.0020 - acc: 1.0000\n",
      "Epoch 100/100\n",
      "1024/1024 [==============================] - 0s 155us/step - loss: 0.0019 - acc: 1.0000\n",
      "Tseting -------------------------\n",
      "9225/9225 [==============================] - 0s 49us/step\n",
      "\n",
      "test loss:  2.0267894983162402\n",
      "\n",
      "test accuracy 0.725962059630288\n"
     ]
    }
   ],
   "source": [
    "#### --------------------------------放入云服务器计算-----------------------------------------######\n",
    "print('Training ------------------------')\n",
    "model.fit(data_train, lable_train, batch_size=32, epochs=100)\n",
    "print('Tseting -------------------------')\n",
    "score = model.evaluate(data_test, lable_test, batch_size=32)\n",
    "print('\\ntest loss: ', score[0])\n",
    "print('\\ntest accuracy', score[1])"
   ]
  },
  {
   "cell_type": "code",
   "execution_count": null,
   "metadata": {},
   "outputs": [],
   "source": []
  }
 ],
 "metadata": {
  "kernelspec": {
   "display_name": "Python [conda env:keras]",
   "language": "python",
   "name": "conda-env-keras-py"
  },
  "language_info": {
   "codemirror_mode": {
    "name": "ipython",
    "version": 3
   },
   "file_extension": ".py",
   "mimetype": "text/x-python",
   "name": "python",
   "nbconvert_exporter": "python",
   "pygments_lexer": "ipython3",
   "version": "3.6.4"
  }
 },
 "nbformat": 4,
 "nbformat_minor": 2
}
