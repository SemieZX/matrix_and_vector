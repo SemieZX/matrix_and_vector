{
 "cells": [
  {
   "cell_type": "code",
   "execution_count": 1,
   "metadata": {},
   "outputs": [],
   "source": [
    "import numpy as np\n",
    "import matplotlib.pyplot as plt\n",
    "from scipy.io import loadmat\n",
    "import spectral\n",
    "from sklearn import preprocessing\n",
    "from sklearn.cluster import KMeans \n",
    "import pandas as pd\n",
    "from sklearn.model_selection import train_test_split\n",
    "from sklearn.svm import SVC\n",
    "from sklearn import metrics\n",
    "#from xgboost import XGBClassifier\n",
    "from sklearn.decomposition import PCA\n",
    "#from sklearn.ensemble import GradientBoostingClassifier\n",
    "#from sklearn.ensemble import AdaBoostClassifier\n",
    "#import lightgbm as lgb\n",
    "import joblib"
   ]
  },
  {
   "cell_type": "markdown",
   "metadata": {},
   "source": [
    "##  相关函数定义"
   ]
  },
  {
   "cell_type": "code",
   "execution_count": 83,
   "metadata": {},
   "outputs": [],
   "source": [
    "## 降维操作\n",
    "def pca_hpi(input_image, dimension=30):\n",
    "    spectral = list()\n",
    "    for i in range(input_image.shape[0]):\n",
    "        for j in range(input_image.shape[1]):\n",
    "            spectral.append(input_image[i][j,])\n",
    "    spectral_array = np.array(spectral)\n",
    "    ## 降维\n",
    "    pca = PCA(n_components=dimension,svd_solver='auto')\n",
    "    pca.fit(spectral_array)\n",
    "    pca_input_iamge = pca.transform(spectral_array)\n",
    "    ## 姜维之后恢复 原来形状\n",
    "    pca_return_array = np.vsplit(pca_input_iamge,145)\n",
    "    pca_return_array = np.array(pca_return_array)\n",
    "    print (pca.explained_variance_ratio_)\n",
    "    return pca_return_array\n",
    "\n",
    "#####-------------------------------------------------- 生成 3D Tensor---------------------------########\n",
    "\n",
    "# 可以提取出高光谱数据的一个channel的数据 145*145\n",
    "def split_one_channel(A,channel):\n",
    "    row = A.shape[0]\n",
    "    d = [0]*row\n",
    "    for i in range(row):\n",
    "        d[i] = A[i][:,channel-1]\n",
    "    e = np.vstack((d[i] for i in range(row)))\n",
    "    return e   \n",
    "# 参数说明\n",
    "# channel 通道\n",
    "# A 高光谱立方块\n",
    "\n",
    "\n",
    "# 依据patch大小（Filter 大小）对矩阵进行镜像处理\n",
    "def mirror_matrix(A, fil):\n",
    "    pad = int((fil-1)/2)\n",
    "    for  i in range(1,pad+1):\n",
    "        up = np.array(A[2*i-1,:])\n",
    "        down = np.array(A[-2*i,:])\n",
    "        Matrix_up_down = np.vstack([up,A,down])\n",
    "        left = np.array(Matrix_up_down[:,2*i-1]).reshape(len(Matrix_up_down),1)\n",
    "        right = np.array(Matrix_up_down[:,-2*i]).reshape(len(Matrix_up_down),1)\n",
    "        Matrix_left_right = np.hstack([left,Matrix_up_down,right,])\n",
    "        A = Matrix_left_right\n",
    "    return A\n",
    "\n",
    "# 参数说明\n",
    "# n   array size\n",
    "# fil  filter size5*5\n",
    "# pad = (fil-1)/2  padding大小\n",
    "\n",
    "\n",
    "def recreate_whole_data(dim,fil,input_image):\n",
    "    whole_origin_matrix_array = np.array([split_one_channel(input_image,i) for i in range(1,dim+1)])\n",
    "    whole_mirror_matrix_array = np.array([mirror_matrix(whole_origin_matrix_array[i],fil) for i in range(dim)])\n",
    "    return whole_mirror_matrix_array\n",
    "\n",
    "\n",
    "## 分割patch  work out 一个维度的patch\n",
    "def create_patch_one(A,fil):\n",
    "    whole_arr = list()\n",
    "    row = A.shape[0]-fil+1\n",
    "    column = A.shape[1]-fil+1\n",
    "    for i in range(row):\n",
    "        for j in range(column):\n",
    "            temp_arr = list()\n",
    "            for z in range(fil):\n",
    "                p = A[i+z,j:j+fil]\n",
    "                temp_arr.append(p)\n",
    "            one_arr = np.vstack(temp_arr)\n",
    "            whole_arr.append(one_arr)\n",
    "    return np.array(whole_arr)\n",
    "    \n",
    "def create_patch_whole(A,fil,dim):\n",
    "    temp = [create_patch_one(split_one_channel(A,i),fil) for i in range(1,dim+1)]\n",
    "    return np.array(temp)\n",
    "\n",
    "\n",
    "def create_patch_cube(patch,fil,dim):\n",
    "    temp = list()\n",
    "    nums = patch[0].shape[0] # the nums of every dim of windows  n - f + 1\n",
    "    for j in range(nums):\n",
    "        temp_re = np.vstack([patch[i][j] for i in range(dim)]).reshape(dim,fil,fil)\n",
    "        temp_re1= temp_re.transpose(2,1,0) # switch 1,3 dim\n",
    "        temp_re2 = temp_re1.transpose(1,0,2) # switch 1,2 dim\n",
    "        temp.append(temp_re2)\n",
    "    patch_cubes = np.array(temp)\n",
    "    return patch_cubes\n",
    "\n",
    "def whole_sample_lable(patch_cubes):\n",
    "    sample_lable_list = list()\n",
    "    for i in range(len(patch_cubes)):\n",
    "            sample_lable_list.append((patch_cubes[i],out_labels[i]))\n",
    "    whole_sample_lable_array = np.array(sample_lable_list)\n",
    "    return whole_sample_lable_array\n",
    "\n",
    "# 提取有用的标签\n",
    "def useful_sample_lable(patch_cubes):\n",
    "    sample_lable_list = list()\n",
    "    for i in range(len(patch_cubes)):\n",
    "        if out_labels[i] != 0:\n",
    "            sample_lable_list.append((patch_cubes[i],out_labels[i]))\n",
    "    sample_lable_array = np.array(sample_lable_list)\n",
    "    return sample_lable_array\n",
    "\n",
    "# 存储numpy文件\n",
    "def save_sample_label(sample_lable_array,path='H:\\data\\sample_lable_array.numpy'):\n",
    "    np.save(path,sample_lable_array)\n",
    "    \n",
    "# 载入numpy文件\n",
    "def load_sample_label(name):\n",
    "    s = np.load(name)\n",
    "    return s"
   ]
  },
  {
   "cell_type": "markdown",
   "metadata": {},
   "source": [
    "## 搭建网络"
   ]
  },
  {
   "cell_type": "code",
   "execution_count": 3,
   "metadata": {},
   "outputs": [
    {
     "name": "stderr",
     "output_type": "stream",
     "text": [
      "D:\\anaconda\\lib\\site-packages\\h5py\\__init__.py:36: FutureWarning: Conversion of the second argument of issubdtype from `float` to `np.floating` is deprecated. In future, it will be treated as `np.float64 == np.dtype(float).type`.\n",
      "  from ._conv import register_converters as _register_converters\n",
      "Using TensorFlow backend.\n"
     ]
    }
   ],
   "source": [
    "import keras\n",
    "from keras.models import Sequential\n",
    "from keras.layers import Dense, Dropout, Activation, Flatten\n",
    "from keras.layers import Conv2D,MaxPooling2D\n",
    "from keras.optimizers import SGD"
   ]
  },
  {
   "cell_type": "code",
   "execution_count": 90,
   "metadata": {},
   "outputs": [],
   "source": [
    "model = Sequential()\n",
    "# input : 5x5 patch with 30 channels - > (5,5,30)\n",
    "# layer1 Conv2d  30 x 3 = 90 filters\n",
    "model.add(Conv2D(90, (3, 3), activation='relu', input_shape=(100, 100, 3)))\n",
    "\n",
    "model.add(Conv2D(270, (3, 3), activation='relu'))\n",
    "\n",
    "          \n",
    "model.add(Dense(180, activation='relu'))\n",
    "model.add(Dense(16, activation='softmax'))\n",
    "          \n",
    "sgd = SGD(lr=0.01, decay=1e-6, momentum=0.9, nesterov=True)\n",
    "model.compile(loss='binary_crossentropy',\n",
    "              optimizer='rmsprop',\n",
    "              metrics=['accuracy'])"
   ]
  },
  {
   "cell_type": "markdown",
   "metadata": {},
   "source": [
    "## 分类"
   ]
  },
  {
   "cell_type": "code",
   "execution_count": 5,
   "metadata": {},
   "outputs": [],
   "source": [
    "DIM = 30\n",
    "FIL = 5"
   ]
  },
  {
   "cell_type": "code",
   "execution_count": 6,
   "metadata": {},
   "outputs": [],
   "source": [
    "inp = loadmat('F:\\data\\Indian_pines_corrected.mat')['indian_pines_corrected']\n",
    "out = loadmat('F:\\data\\Indian_pines_gt.mat')['indian_pines_gt']"
   ]
  },
  {
   "cell_type": "code",
   "execution_count": 7,
   "metadata": {},
   "outputs": [
    {
     "name": "stdout",
     "output_type": "stream",
     "text": [
      "[6.84937994e-01 2.35313708e-01 1.49635476e-02 8.21541515e-03\n",
      " 6.95011265e-03 5.17010703e-03 3.99681431e-03 3.62359687e-03\n",
      " 3.07127396e-03 2.93211894e-03 2.67352983e-03 2.49230109e-03\n",
      " 2.24688362e-03 1.89388746e-03 1.69433607e-03 1.56043457e-03\n",
      " 1.53162474e-03 1.35012945e-03 1.00138897e-03 9.24870614e-04\n",
      " 8.47876347e-04 7.64378123e-04 6.64576210e-04 6.45652652e-04\n",
      " 6.16270167e-04 5.60819361e-04 5.43065926e-04 5.14765886e-04\n",
      " 4.20669358e-04 3.63109771e-04]\n"
     ]
    }
   ],
   "source": [
    "pca_return_array_alpha = pca_hpi(inp,DIM) # pca"
   ]
  },
  {
   "cell_type": "code",
   "execution_count": 8,
   "metadata": {},
   "outputs": [],
   "source": [
    "pca_return_array_beta = recreate_whole_data(DIM,FIL,pca_return_array_alpha) # padd 并镜像"
   ]
  },
  {
   "cell_type": "code",
   "execution_count": 9,
   "metadata": {},
   "outputs": [
    {
     "data": {
      "text/plain": [
       "(30, 149, 149)"
      ]
     },
     "execution_count": 9,
     "metadata": {},
     "output_type": "execute_result"
    }
   ],
   "source": [
    "pca_return_array_beta.shape # 145+2*（f-1）/2"
   ]
  },
  {
   "cell_type": "code",
   "execution_count": 10,
   "metadata": {},
   "outputs": [],
   "source": [
    "## 将pca_return beta 变为 149--3  x  149--2  x 30 形状\n",
    "pca_return_array_beta = pca_return_array_beta.transpose(2,1,0) #switch dim 1,3"
   ]
  },
  {
   "cell_type": "code",
   "execution_count": 11,
   "metadata": {},
   "outputs": [
    {
     "data": {
      "text/plain": [
       "(149, 149, 30)"
      ]
     },
     "execution_count": 11,
     "metadata": {},
     "output_type": "execute_result"
    }
   ],
   "source": [
    "pca_return_array_beta.shape"
   ]
  },
  {
   "cell_type": "code",
   "execution_count": 12,
   "metadata": {},
   "outputs": [],
   "source": [
    "pca_return_array_beta = pca_return_array_beta.transpose(1,0,2) # switch dim 1,2"
   ]
  },
  {
   "cell_type": "code",
   "execution_count": 13,
   "metadata": {},
   "outputs": [
    {
     "data": {
      "text/plain": [
       "(149, 149, 30)"
      ]
     },
     "execution_count": 13,
     "metadata": {},
     "output_type": "execute_result"
    }
   ],
   "source": [
    "pca_return_array_beta.shape"
   ]
  },
  {
   "cell_type": "code",
   "execution_count": 14,
   "metadata": {},
   "outputs": [],
   "source": [
    "## ## 将每个 filxfil (5x5)的patch取出来， 并将每个channel的信息放入一个集合\n",
    "patch_dim = create_patch_whole(pca_return_array_beta,FIL,DIM)"
   ]
  },
  {
   "cell_type": "code",
   "execution_count": 15,
   "metadata": {},
   "outputs": [
    {
     "data": {
      "text/plain": [
       "(30, 21025, 5, 5)"
      ]
     },
     "execution_count": 15,
     "metadata": {},
     "output_type": "execute_result"
    }
   ],
   "source": [
    "patch_dim.shape  # 30 个dim  every dim 21025个window (sample)    window(5x5)"
   ]
  },
  {
   "cell_type": "code",
   "execution_count": 16,
   "metadata": {},
   "outputs": [],
   "source": [
    "patch_cubes = create_patch_cube(patch_dim,FIL, DIM)"
   ]
  },
  {
   "cell_type": "code",
   "execution_count": 17,
   "metadata": {},
   "outputs": [
    {
     "data": {
      "text/plain": [
       "(21025, 5, 5, 30)"
      ]
     },
     "execution_count": 17,
     "metadata": {},
     "output_type": "execute_result"
    }
   ],
   "source": [
    "patch_cubes.shape   # 21025个 sample 每个sample是一个patch 30dim  5x5"
   ]
  },
  {
   "cell_type": "code",
   "execution_count": 18,
   "metadata": {},
   "outputs": [
    {
     "data": {
      "text/plain": [
       "(145, 145)"
      ]
     },
     "execution_count": 18,
     "metadata": {},
     "output_type": "execute_result"
    }
   ],
   "source": [
    "out.shape"
   ]
  },
  {
   "cell_type": "code",
   "execution_count": 19,
   "metadata": {},
   "outputs": [],
   "source": [
    "out_labels = out.reshape(145*145,)"
   ]
  },
  {
   "cell_type": "code",
   "execution_count": 20,
   "metadata": {},
   "outputs": [
    {
     "data": {
      "text/plain": [
       "(21025,)"
      ]
     },
     "execution_count": 20,
     "metadata": {},
     "output_type": "execute_result"
    }
   ],
   "source": [
    "out_labels.shape"
   ]
  },
  {
   "cell_type": "markdown",
   "metadata": {},
   "source": [
    "### 纠错"
   ]
  },
  {
   "cell_type": "code",
   "execution_count": 79,
   "metadata": {},
   "outputs": [
    {
     "data": {
      "text/plain": [
       "(21025, 5, 5, 30)"
      ]
     },
     "execution_count": 79,
     "metadata": {},
     "output_type": "execute_result"
    }
   ],
   "source": [
    "patch_cubes.shape"
   ]
  },
  {
   "cell_type": "code",
   "execution_count": 29,
   "metadata": {},
   "outputs": [
    {
     "data": {
      "text/plain": [
       "(5, 5, 30)"
      ]
     },
     "execution_count": 29,
     "metadata": {},
     "output_type": "execute_result"
    }
   ],
   "source": [
    "patch_cubes[0].shape"
   ]
  },
  {
   "cell_type": "code",
   "execution_count": 31,
   "metadata": {},
   "outputs": [
    {
     "data": {
      "text/plain": [
       "(5, 5, 30)"
      ]
     },
     "execution_count": 31,
     "metadata": {},
     "output_type": "execute_result"
    }
   ],
   "source": [
    "patch_cubes[1].shape"
   ]
  },
  {
   "cell_type": "code",
   "execution_count": 32,
   "metadata": {},
   "outputs": [],
   "source": [
    "temp = list()\n",
    "for i in range(patch_cubes.shape[0]):\n",
    "    temp.append([patch_cubes[i],out_labels[i]])\n",
    "s =np.array(temp)"
   ]
  },
  {
   "cell_type": "code",
   "execution_count": 42,
   "metadata": {},
   "outputs": [
    {
     "data": {
      "text/plain": [
       "(5, 5, 30)"
      ]
     },
     "execution_count": 42,
     "metadata": {},
     "output_type": "execute_result"
    }
   ],
   "source": [
    "s[1][0].shape"
   ]
  },
  {
   "cell_type": "markdown",
   "metadata": {},
   "source": [
    "## 纠错过程"
   ]
  },
  {
   "cell_type": "code",
   "execution_count": 22,
   "metadata": {},
   "outputs": [],
   "source": [
    "sample_lable_array = useful_sample_lable(patch_cubes)"
   ]
  },
  {
   "cell_type": "code",
   "execution_count": 45,
   "metadata": {},
   "outputs": [
    {
     "data": {
      "text/plain": [
       "(10249, 2)"
      ]
     },
     "execution_count": 45,
     "metadata": {},
     "output_type": "execute_result"
    }
   ],
   "source": [
    "sample_lable_array.shape  # 10249个样本 ，2个values, 1st sample ,  2st lables"
   ]
  },
  {
   "cell_type": "code",
   "execution_count": 87,
   "metadata": {},
   "outputs": [],
   "source": [
    "## 存储sample_label_array文件\n",
    "save_sample_label(sample_lable_array,'H:\\data\\sample_lable_array')"
   ]
  },
  {
   "cell_type": "code",
   "execution_count": 88,
   "metadata": {},
   "outputs": [],
   "source": [
    "s10 = load_sample_label('H:\\data\\sample_lable_array.npy')"
   ]
  },
  {
   "cell_type": "code",
   "execution_count": 89,
   "metadata": {},
   "outputs": [
    {
     "data": {
      "text/plain": [
       "(10249, 2)"
      ]
     },
     "execution_count": 89,
     "metadata": {},
     "output_type": "execute_result"
    }
   ],
   "source": [
    "s10.shape #### 搞定"
   ]
  },
  {
   "cell_type": "code",
   "execution_count": 53,
   "metadata": {},
   "outputs": [
    {
     "data": {
      "text/plain": [
       "(10249, 5, 5, 30)"
      ]
     },
     "execution_count": 53,
     "metadata": {},
     "output_type": "execute_result"
    }
   ],
   "source": [
    "def \n",
    "temp = list()\n",
    "for i in range(sample_lable_array.shape[0]):\n",
    "    temp.append(sample_lable_array[i][0])\n",
    "np.array(temp).shape"
   ]
  },
  {
   "cell_type": "code",
   "execution_count": 54,
   "metadata": {},
   "outputs": [
    {
     "data": {
      "text/plain": [
       "(10249,)"
      ]
     },
     "execution_count": 54,
     "metadata": {},
     "output_type": "execute_result"
    }
   ],
   "source": [
    "temp2 = list()\n",
    "for i in range(sample_lable_array.shape[0]):\n",
    "    temp2.append(sample_lable_array[i][1])\n",
    "np.array(temp2).shape"
   ]
  },
  {
   "cell_type": "code",
   "execution_count": 73,
   "metadata": {},
   "outputs": [
    {
     "data": {
      "text/plain": [
       "(10249,)"
      ]
     },
     "execution_count": 73,
     "metadata": {},
     "output_type": "execute_result"
    }
   ],
   "source": [
    "s4 = sample_lable_array[:,-1] ## 取出标签\n",
    "s4.shape"
   ]
  },
  {
   "cell_type": "code",
   "execution_count": 68,
   "metadata": {},
   "outputs": [
    {
     "data": {
      "text/plain": [
       "(10249, 5, 5, 30)"
      ]
     },
     "execution_count": 68,
     "metadata": {},
     "output_type": "execute_result"
    }
   ],
   "source": [
    "s5 = np.array([sample_lable_array[:,0][i]for i in range(sample_lable_array.shape[0])])  ## 取出数据\n",
    "s5.shape"
   ]
  },
  {
   "cell_type": "code",
   "execution_count": 69,
   "metadata": {},
   "outputs": [],
   "source": [
    "# def scaler_save(sample_lable_arry, path = 'H:\\data\\cnn_3d_spec_spi.csv'):\n",
    "#     ## 归一化\n",
    "#     data_D = np.array([sample_lable_array[:,0][i]for i in range(sample_lable_array.shape[0])])\n",
    "#     data_L = sample_lable_array[:,-1]\n",
    "\n",
    "#     ## 存储\n",
    "#     new = np.column_stack((data_D, data_L))\n",
    "#     new_ = pd.DataFrame(new)\n",
    "#     new_.to_csv(path,header=False,index=False)"
   ]
  },
  {
   "cell_type": "code",
   "execution_count": null,
   "metadata": {},
   "outputs": [],
   "source": [
    "# scaler_save(sample_lable_array, path='H:\\data\\cnn_3d_spec_spi.csv')"
   ]
  },
  {
   "cell_type": "code",
   "execution_count": 74,
   "metadata": {},
   "outputs": [],
   "source": [
    "data_train, data_test, label_train, label_test = train_test_split(s5,s4,test_size=0.9) ## 分割训练测试集合"
   ]
  },
  {
   "cell_type": "code",
   "execution_count": 78,
   "metadata": {},
   "outputs": [
    {
     "data": {
      "text/plain": [
       "(1024, 5, 5, 30)"
      ]
     },
     "execution_count": 78,
     "metadata": {},
     "output_type": "execute_result"
    }
   ],
   "source": [
    "data_train.shape #分割标签和样本"
   ]
  },
  {
   "cell_type": "code",
   "execution_count": 24,
   "metadata": {},
   "outputs": [],
   "source": [
    "#### --------------------------------放入云服务器计算-----------------------------------------######\n",
    "# model.fit(x_train, y_train, batch_size=32, epochs=10)\n",
    "# score = model.evaluate(x_test, y_test, batch_size=32)"
   ]
  },
  {
   "cell_type": "code",
   "execution_count": null,
   "metadata": {},
   "outputs": [],
   "source": []
  }
 ],
 "metadata": {
  "kernelspec": {
   "display_name": "Python 3",
   "language": "python",
   "name": "python3"
  },
  "language_info": {
   "codemirror_mode": {
    "name": "ipython",
    "version": 3
   },
   "file_extension": ".py",
   "mimetype": "text/x-python",
   "name": "python",
   "nbconvert_exporter": "python",
   "pygments_lexer": "ipython3",
   "version": "3.6.4"
  }
 },
 "nbformat": 4,
 "nbformat_minor": 2
}
