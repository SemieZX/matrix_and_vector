{
 "cells": [
  {
   "cell_type": "code",
   "execution_count": 1,
   "metadata": {},
   "outputs": [],
   "source": [
    "import numpy as np"
   ]
  },
  {
   "cell_type": "code",
   "execution_count": 3,
   "metadata": {},
   "outputs": [],
   "source": [
    "n = 5  # array size\n",
    "fil = 5 # filter size5*5\n",
    "pad = (fil-1)/2 #padding"
   ]
  },
  {
   "cell_type": "code",
   "execution_count": 7,
   "metadata": {},
   "outputs": [],
   "source": [
    "def mirror_matrix(A, fil):\n",
    "    pad = int((fil-1)/2)\n",
    "    for i in range(1,pad+1): # up_down and left_right\n",
    "        up_down = np.array(A[2*i-1,:])\n",
    "        Matrix_up_down = np.vstack([up_down,A,up_down])\n",
    "        left_right = np.array(Matrix_up_down[:,2*i-1]).reshape(len(Matrix_up_down),1)\n",
    "        Matrix_left_right = np.hstack([left_right,Matrix_up_down,left_right])\n",
    "        A = Matrix_left_right\n",
    "    return A\n",
    "\n",
    "A = np.arange(1,26).reshape(5,5)\n",
    "fil = 7\n",
    "B = mirror_matrix(A,fil)"
   ]
  },
  {
   "cell_type": "code",
   "execution_count": 8,
   "metadata": {},
   "outputs": [
    {
     "data": {
      "text/plain": [
       "array([[19, 18, 17, 16, 17, 18, 19, 20, 17, 18, 19],\n",
       "       [14, 13, 12, 11, 12, 13, 14, 15, 12, 13, 14],\n",
       "       [ 9,  8,  7,  6,  7,  8,  9, 10,  7,  8,  9],\n",
       "       [ 4,  3,  2,  1,  2,  3,  4,  5,  2,  3,  4],\n",
       "       [ 9,  8,  7,  6,  7,  8,  9, 10,  7,  8,  9],\n",
       "       [14, 13, 12, 11, 12, 13, 14, 15, 12, 13, 14],\n",
       "       [19, 18, 17, 16, 17, 18, 19, 20, 17, 18, 19],\n",
       "       [24, 23, 22, 21, 22, 23, 24, 25, 22, 23, 24],\n",
       "       [ 9,  8,  7,  6,  7,  8,  9, 10,  7,  8,  9],\n",
       "       [14, 13, 12, 11, 12, 13, 14, 15, 12, 13, 14],\n",
       "       [19, 18, 17, 16, 17, 18, 19, 20, 17, 18, 19]])"
      ]
     },
     "execution_count": 8,
     "metadata": {},
     "output_type": "execute_result"
    }
   ],
   "source": [
    "B"
   ]
  },
  {
   "cell_type": "code",
   "execution_count": null,
   "metadata": {},
   "outputs": [],
   "source": []
  }
 ],
 "metadata": {
  "kernelspec": {
   "display_name": "Python 3",
   "language": "python",
   "name": "python3"
  },
  "language_info": {
   "codemirror_mode": {
    "name": "ipython",
    "version": 3
   },
   "file_extension": ".py",
   "mimetype": "text/x-python",
   "name": "python",
   "nbconvert_exporter": "python",
   "pygments_lexer": "ipython3",
   "version": "3.6.4"
  }
 },
 "nbformat": 4,
 "nbformat_minor": 2
}
