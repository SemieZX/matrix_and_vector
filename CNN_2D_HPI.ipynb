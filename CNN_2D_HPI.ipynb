{
 "cells": [
  {
   "cell_type": "code",
   "execution_count": 1,
   "metadata": {},
   "outputs": [],
   "source": [
    "import numpy as np\n",
    "import matplotlib.pyplot as plt\n",
    "from scipy.io import loadmat\n",
    "import spectral\n",
    "from sklearn import preprocessing\n",
    "from sklearn.cluster import KMeans \n",
    "import pandas as pd\n",
    "from sklearn.model_selection import train_test_split\n",
    "from sklearn.svm import SVC\n",
    "from sklearn import metrics\n",
    "#from xgboost import XGBClassifier\n",
    "from sklearn.decomposition import PCA\n",
    "#from sklearn.ensemble import GradientBoostingClassifier\n",
    "#from sklearn.ensemble import AdaBoostClassifier\n",
    "#import lightgbm as lgb\n",
    "import joblib"
   ]
  },
  {
   "cell_type": "code",
   "execution_count": null,
   "metadata": {},
   "outputs": [],
   "source": [
    "input_image = loadmat('F:\\data\\Indian_pines_corrected.mat')['indian_pines_corrected']\n",
    "output_image = loadmat('F:\\data\\Indian_pines_gt.mat')['indian_pines_gt']"
   ]
  },
  {
   "cell_type": "code",
   "execution_count": null,
   "metadata": {},
   "outputs": [],
   "source": [
    "input_image.shape"
   ]
  },
  {
   "cell_type": "code",
   "execution_count": null,
   "metadata": {},
   "outputs": [],
   "source": [
    "output_image.shape"
   ]
  },
  {
   "cell_type": "code",
   "execution_count": 2,
   "metadata": {},
   "outputs": [],
   "source": [
    "## 降维操作\n",
    "def pca_hpi(input_image, dimension=30):\n",
    "    spectral = list()\n",
    "    for i in range(input_image.shape[0]):\n",
    "        for j in range(input_image.shape[1]):\n",
    "            spectral.append(input_image[i][j,])\n",
    "    spectral_array = np.array(spectral)\n",
    "    ## 降维\n",
    "    pca = PCA(n_components=dimension,svd_solver='auto')\n",
    "    pca.fit(spectral_array)\n",
    "    pca_input_iamge = pca.transform(spectral_array)\n",
    "    ## 姜维之后恢复 原来形状\n",
    "    pca_return_array = np.vsplit(pca_input_iamge,145)\n",
    "    pca_return_array = np.array(pca_return_array)\n",
    "    print (pca.explained_variance_ratio_)\n",
    "    return pca_return_array"
   ]
  },
  {
   "cell_type": "code",
   "execution_count": null,
   "metadata": {},
   "outputs": [],
   "source": [
    "pca_return_array = pca_hpi(input_image,30)  # 降维后Cr成为30"
   ]
  },
  {
   "cell_type": "code",
   "execution_count": null,
   "metadata": {},
   "outputs": [],
   "source": [
    "pca_return_array.shape"
   ]
  },
  {
   "cell_type": "code",
   "execution_count": null,
   "metadata": {},
   "outputs": [],
   "source": [
    "pca_return_array[0].shape\n"
   ]
  },
  {
   "cell_type": "markdown",
   "metadata": {},
   "source": [
    "## patch的生成   3D tensor"
   ]
  },
  {
   "cell_type": "code",
   "execution_count": 3,
   "metadata": {},
   "outputs": [],
   "source": [
    "# 可以提取出高光谱数据的一个channel的数据 145*145\n",
    "def split_one_channel(A,channel):\n",
    "    row = A.shape[0]\n",
    "    d = [0]*row\n",
    "    for i in range(row):\n",
    "        d[i] = A[i][:,channel-1]\n",
    "    e = np.vstack((d[i] for i in range(row)))\n",
    "    return e   \n",
    "# 参数说明\n",
    "# channel 通道\n",
    "# A 高光谱立方块\n",
    "\n",
    "\n",
    "# 依据patch大小（Filter 大小）对矩阵进行镜像处理\n",
    "def mirror_matrix(A, fil):\n",
    "    pad = int((fil-1)/2)\n",
    "    for  i in range(1,pad+1):\n",
    "        up = np.array(A[2*i-1,:])\n",
    "        down = np.array(A[-2*i,:])\n",
    "        Matrix_up_down = np.vstack([up,A,down])\n",
    "        left = np.array(Matrix_up_down[:,2*i-1]).reshape(len(Matrix_up_down),1)\n",
    "        right = np.array(Matrix_up_down[:,-2*i]).reshape(len(Matrix_up_down),1)\n",
    "        Matrix_left_right = np.hstack([left,Matrix_up_down,right,])\n",
    "        A = Matrix_left_right\n",
    "    return A\n",
    "\n",
    "# 参数说明\n",
    "# n   array size\n",
    "# fil  filter size5*5\n",
    "# pad = (fil-1)/2  padding大小\n",
    "\n",
    "\n",
    "def recreate_whole_data(dim,fil,input_image):\n",
    "    whole_origin_matrix_array = np.array([split_one_channel(input_image,i) for i in range(1,dim+1)])\n",
    "    whole_mirror_matrix_array = np.array([mirror_matrix(whole_origin_matrix_array[i],fil) for i in range(dim)])\n",
    "    return whole_mirror_matrix_array\n",
    "\n",
    "\n",
    "## 分割patch  work out 一个维度的patch\n",
    "def create_patch_one(A,fil):\n",
    "    whole_arr = list()\n",
    "    row = A.shape[0]-fil+1\n",
    "    column = A.shape[1]-fil+1\n",
    "    for i in range(row):\n",
    "        for j in range(column):\n",
    "            temp_arr = list()\n",
    "            for z in range(fil):\n",
    "                p = A[i+z,j:j+fil]\n",
    "                temp_arr.append(p)\n",
    "            one_arr = np.vstack(temp_arr)\n",
    "            whole_arr.append(one_arr)\n",
    "    return np.array(whole_arr)\n",
    "    \n",
    "def create_patch_whole(A,fil,dim):\n",
    "    temp = [create_patch_one(split_one_channel(A,i),fil) for i in range(1,dim+1)]\n",
    "    return np.array(temp)\n",
    "\n",
    "\n",
    "def create_patch_cube(patch,fil,dim):\n",
    "    temp = list()\n",
    "    nums = patch[0].shape[0] # the nums of every dim of windows  n - f + 1\n",
    "    for j in range(nums):\n",
    "        temp_re = np.vstack([patch[i][j] for i in range(dim)]).reshape(dim,fil,fil)\n",
    "        temp_re1= temp_re.transpose(2,1,0) # switch 1,3 dim\n",
    "        temp_re2 = temp_re1.transpose(1,0,2) # switch 1,2 dim\n",
    "        temp.append(temp_re2)\n",
    "    patch_cubes = np.array(temp)\n",
    "    return patch_cubes\n",
    "    \n",
    "    "
   ]
  },
  {
   "cell_type": "markdown",
   "metadata": {},
   "source": [
    "### 测试"
   ]
  },
  {
   "cell_type": "code",
   "execution_count": null,
   "metadata": {},
   "outputs": [],
   "source": [
    "## 将每个 filxfil (3x3)的patcha取出来， 并将每个channel的信息放入一个集合\n",
    "patch_dim = create_patch_whole(pca_return_array,3,30)"
   ]
  },
  {
   "cell_type": "code",
   "execution_count": null,
   "metadata": {},
   "outputs": [],
   "source": [
    "patch_dim.shape  # 30 个dim  every dim 20499个window (sample)    window(3x3)"
   ]
  },
  {
   "cell_type": "code",
   "execution_count": null,
   "metadata": {},
   "outputs": [],
   "source": [
    "143*143"
   ]
  },
  {
   "cell_type": "code",
   "execution_count": null,
   "metadata": {},
   "outputs": [],
   "source": [
    "patch_cubes = create_patch_cube(patch_dim,3, 30)"
   ]
  },
  {
   "cell_type": "code",
   "execution_count": null,
   "metadata": {},
   "outputs": [],
   "source": [
    "patch_cubes.shape  # 20499 samples   one sampe is a 3D tensor (3x3x30)"
   ]
  },
  {
   "cell_type": "code",
   "execution_count": null,
   "metadata": {},
   "outputs": [],
   "source": [
    "## 测试成功"
   ]
  },
  {
   "cell_type": "markdown",
   "metadata": {},
   "source": [
    "## 开始联合标签"
   ]
  },
  {
   "cell_type": "code",
   "execution_count": null,
   "metadata": {},
   "outputs": [],
   "source": [
    "patch_cubes[0].shape"
   ]
  },
  {
   "cell_type": "code",
   "execution_count": null,
   "metadata": {},
   "outputs": [],
   "source": []
  },
  {
   "cell_type": "code",
   "execution_count": null,
   "metadata": {},
   "outputs": [],
   "source": []
  },
  {
   "cell_type": "code",
   "execution_count": null,
   "metadata": {},
   "outputs": [],
   "source": []
  },
  {
   "cell_type": "code",
   "execution_count": null,
   "metadata": {},
   "outputs": [],
   "source": []
  },
  {
   "cell_type": "code",
   "execution_count": null,
   "metadata": {},
   "outputs": [],
   "source": []
  },
  {
   "cell_type": "code",
   "execution_count": 4,
   "metadata": {},
   "outputs": [],
   "source": [
    "DIM = 30\n",
    "FIL = 3"
   ]
  },
  {
   "cell_type": "code",
   "execution_count": 5,
   "metadata": {},
   "outputs": [],
   "source": [
    "inp = loadmat('F:\\data\\Indian_pines_corrected.mat')['indian_pines_corrected']\n",
    "out = loadmat('F:\\data\\Indian_pines_gt.mat')['indian_pines_gt']"
   ]
  },
  {
   "cell_type": "code",
   "execution_count": null,
   "metadata": {},
   "outputs": [],
   "source": [
    "list1 = [out[i][j]for i in range(145)for j in range(145)]\n",
    "set(list1)"
   ]
  },
  {
   "cell_type": "code",
   "execution_count": 6,
   "metadata": {},
   "outputs": [
    {
     "name": "stdout",
     "output_type": "stream",
     "text": [
      "[6.84937994e-01 2.35313708e-01 1.49635476e-02 8.21541515e-03\n",
      " 6.95011265e-03 5.17010703e-03 3.99681431e-03 3.62359687e-03\n",
      " 3.07127396e-03 2.93211894e-03 2.67352983e-03 2.49230109e-03\n",
      " 2.24688362e-03 1.89388745e-03 1.69433605e-03 1.56043456e-03\n",
      " 1.53162471e-03 1.35012974e-03 1.00138773e-03 9.24873537e-04\n",
      " 8.47882716e-04 7.64371870e-04 6.64568247e-04 6.45636943e-04\n",
      " 6.16268833e-04 5.61261295e-04 5.42934379e-04 5.15475231e-04\n",
      " 4.20758532e-04 3.62389167e-04]\n"
     ]
    }
   ],
   "source": [
    "## 降维\n",
    "pca_return_array_alpha = pca_hpi(inp,DIM) "
   ]
  },
  {
   "cell_type": "code",
   "execution_count": 7,
   "metadata": {},
   "outputs": [],
   "source": [
    "# padd 并镜像\n",
    "pca_return_array_beta = recreate_whole_data(DIM,FIL,pca_return_array_alpha)\n"
   ]
  },
  {
   "cell_type": "code",
   "execution_count": 8,
   "metadata": {},
   "outputs": [
    {
     "data": {
      "text/plain": [
       "(30, 147, 147)"
      ]
     },
     "execution_count": 8,
     "metadata": {},
     "output_type": "execute_result"
    }
   ],
   "source": [
    "pca_return_array_beta.shape"
   ]
  },
  {
   "cell_type": "code",
   "execution_count": null,
   "metadata": {},
   "outputs": [],
   "source": [
    "# pca_return_array_beta.transpose(2,1,0).shape"
   ]
  },
  {
   "cell_type": "code",
   "execution_count": null,
   "metadata": {},
   "outputs": [],
   "source": [
    "# pca_return_array_beta.shape"
   ]
  },
  {
   "cell_type": "code",
   "execution_count": 9,
   "metadata": {},
   "outputs": [],
   "source": [
    "## 将pca_return beta 变为 147--3  x  147--2  x 30 形状\n",
    "pca_return_array_beta = pca_return_array_beta.transpose(2,1,0)"
   ]
  },
  {
   "cell_type": "code",
   "execution_count": 10,
   "metadata": {},
   "outputs": [
    {
     "data": {
      "text/plain": [
       "(147, 147, 30)"
      ]
     },
     "execution_count": 10,
     "metadata": {},
     "output_type": "execute_result"
    }
   ],
   "source": [
    "pca_return_array_beta.shape"
   ]
  },
  {
   "cell_type": "code",
   "execution_count": 11,
   "metadata": {},
   "outputs": [],
   "source": [
    "pca_return_array_beta = pca_return_array_beta.transpose(1,0,2)"
   ]
  },
  {
   "cell_type": "code",
   "execution_count": 12,
   "metadata": {},
   "outputs": [
    {
     "data": {
      "text/plain": [
       "(147, 147, 30)"
      ]
     },
     "execution_count": 12,
     "metadata": {},
     "output_type": "execute_result"
    }
   ],
   "source": [
    "pca_return_array_beta.shape"
   ]
  },
  {
   "cell_type": "code",
   "execution_count": 13,
   "metadata": {},
   "outputs": [],
   "source": [
    "## ## 将每个 filxfil (3x3)的patch取出来， 并将每个channel的信息放入一个集合\n",
    "patch_dim = create_patch_whole(pca_return_array_beta,3,30)"
   ]
  },
  {
   "cell_type": "code",
   "execution_count": 14,
   "metadata": {},
   "outputs": [
    {
     "data": {
      "text/plain": [
       "(30, 21025, 3, 3)"
      ]
     },
     "execution_count": 14,
     "metadata": {},
     "output_type": "execute_result"
    }
   ],
   "source": [
    "patch_dim.shape  # 30 个dim  every dim 20735个window (sample)    window(3x3)"
   ]
  },
  {
   "cell_type": "code",
   "execution_count": 15,
   "metadata": {},
   "outputs": [],
   "source": [
    "patch_cubes = create_patch_cube(patch_dim,3, 30)"
   ]
  },
  {
   "cell_type": "code",
   "execution_count": 16,
   "metadata": {},
   "outputs": [
    {
     "data": {
      "text/plain": [
       "(21025, 3, 3, 30)"
      ]
     },
     "execution_count": 16,
     "metadata": {},
     "output_type": "execute_result"
    }
   ],
   "source": [
    "patch_cubes.shape   # 21025个 sample 每个sample是一个patch 30dim  3x3"
   ]
  },
  {
   "cell_type": "code",
   "execution_count": 17,
   "metadata": {},
   "outputs": [
    {
     "data": {
      "text/plain": [
       "array([[[ 5.18403234e+03,  5.60138374e+03,  5.18403234e+03],\n",
       "        [ 4.59543714e+03,  5.01490598e+03,  4.59543714e+03],\n",
       "        [ 5.18403234e+03,  5.60138374e+03,  5.18403234e+03]],\n",
       "\n",
       "       [[-7.79019533e+02, -2.02345009e+03, -7.79019533e+02],\n",
       "        [ 2.36435179e+03,  1.45686326e+03,  2.36435179e+03],\n",
       "        [-7.79019533e+02, -2.02345009e+03, -7.79019533e+02]],\n",
       "\n",
       "       [[ 1.81723902e+02,  3.50134661e+02,  1.81723902e+02],\n",
       "        [-2.98906147e+01,  7.26970489e+01, -2.98906147e+01],\n",
       "        [ 1.81723902e+02,  3.50134661e+02,  1.81723902e+02]],\n",
       "\n",
       "       [[-1.41688645e+02, -5.28465052e+02, -1.41688645e+02],\n",
       "        [ 1.23180845e+02,  7.12049267e+01,  1.23180845e+02],\n",
       "        [-1.41688645e+02, -5.28465052e+02, -1.41688645e+02]],\n",
       "\n",
       "       [[-3.26279891e+02,  1.48088292e+02, -3.26279891e+02],\n",
       "        [-4.15941999e+02, -4.35686988e+02, -4.15941999e+02],\n",
       "        [-3.26279891e+02,  1.48088292e+02, -3.26279891e+02]],\n",
       "\n",
       "       [[-4.86495937e+02, -2.88359036e+02, -4.86495937e+02],\n",
       "        [ 1.56336879e+02, -6.88403234e+01,  1.56336879e+02],\n",
       "        [-4.86495937e+02, -2.88359036e+02, -4.86495937e+02]],\n",
       "\n",
       "       [[ 5.41913667e+02,  2.02956882e+02,  5.41913667e+02],\n",
       "        [-2.68008077e+02,  1.34809900e+02, -2.68008077e+02],\n",
       "        [ 5.41913667e+02,  2.02956882e+02,  5.41913667e+02]],\n",
       "\n",
       "       [[-3.68753345e+02,  2.40848027e+02, -3.68753345e+02],\n",
       "        [-2.08420355e+02, -3.04372437e+02, -2.08420355e+02],\n",
       "        [-3.68753345e+02,  2.40848027e+02, -3.68753345e+02]],\n",
       "\n",
       "       [[-2.35986937e+02, -4.74858115e+02, -2.35986937e+02],\n",
       "        [-2.96544382e+02,  2.56432738e+02, -2.96544382e+02],\n",
       "        [-2.35986937e+02, -4.74858115e+02, -2.35986937e+02]],\n",
       "\n",
       "       [[ 1.57050508e+00,  9.34937820e+01,  1.57050508e+00],\n",
       "        [ 2.14649502e+02, -6.66310935e+01,  2.14649502e+02],\n",
       "        [ 1.57050508e+00,  9.34937820e+01,  1.57050508e+00]],\n",
       "\n",
       "       [[-1.83831023e+02,  3.02630868e+02, -1.83831023e+02],\n",
       "        [ 1.54237197e+02, -1.22609119e+02,  1.54237197e+02],\n",
       "        [-1.83831023e+02,  3.02630868e+02, -1.83831023e+02]],\n",
       "\n",
       "       [[-2.62535453e+00, -8.49393219e+00, -2.62535453e+00],\n",
       "        [ 4.71475897e+00, -2.92052566e+01,  4.71475897e+00],\n",
       "        [-2.62535453e+00, -8.49393219e+00, -2.62535453e+00]],\n",
       "\n",
       "       [[ 1.09790969e+02, -7.89513928e+01,  1.09790969e+02],\n",
       "        [-1.74060333e+02, -1.21088642e+02, -1.74060333e+02],\n",
       "        [ 1.09790969e+02, -7.89513928e+01,  1.09790969e+02]],\n",
       "\n",
       "       [[ 2.32971346e+00,  3.12352985e+01,  2.32971346e+00],\n",
       "        [ 1.59567413e+02,  1.74849314e+02,  1.59567413e+02],\n",
       "        [ 2.32971346e+00,  3.12352985e+01,  2.32971346e+00]],\n",
       "\n",
       "       [[-4.02026946e+01,  6.70046274e+01, -4.02026946e+01],\n",
       "        [-1.04644996e+02, -1.48580974e+02, -1.04644996e+02],\n",
       "        [-4.02026946e+01,  6.70046274e+01, -4.02026946e+01]],\n",
       "\n",
       "       [[-8.15815029e+01, -4.25889496e+01, -8.15815029e+01],\n",
       "        [-9.24174315e+01,  1.57037560e+02, -9.24174315e+01],\n",
       "        [-8.15815029e+01, -4.25889496e+01, -8.15815029e+01]],\n",
       "\n",
       "       [[ 1.16968594e+02, -1.27631044e+02,  1.16968594e+02],\n",
       "        [-4.79627837e+01, -5.13728280e+01, -4.79627837e+01],\n",
       "        [ 1.16968594e+02, -1.27631044e+02,  1.16968594e+02]],\n",
       "\n",
       "       [[ 2.25234803e+02, -1.36380785e+02,  2.25234803e+02],\n",
       "        [ 5.22680709e+01,  4.09148002e+02,  5.22680709e+01],\n",
       "        [ 2.25234803e+02, -1.36380785e+02,  2.25234803e+02]],\n",
       "\n",
       "       [[ 1.10790937e+02,  1.68081316e+02,  1.10790937e+02],\n",
       "        [ 8.59605527e+01, -2.23435852e+02,  8.59605527e+01],\n",
       "        [ 1.10790937e+02,  1.68081316e+02,  1.10790937e+02]],\n",
       "\n",
       "       [[ 5.45286535e+01,  3.86805768e+01,  5.45286535e+01],\n",
       "        [-6.81526094e+01,  7.97968635e+00, -6.81526094e+01],\n",
       "        [ 5.45286535e+01,  3.86805768e+01,  5.45286535e+01]],\n",
       "\n",
       "       [[ 5.67714406e+01,  3.59028948e+01,  5.67714406e+01],\n",
       "        [-1.09079251e+02,  3.95910553e+01, -1.09079251e+02],\n",
       "        [ 5.67714406e+01,  3.59028948e+01,  5.67714406e+01]],\n",
       "\n",
       "       [[ 7.00616548e+00, -1.39039864e+01,  7.00616548e+00],\n",
       "        [ 5.04423437e+01, -1.18677030e+02,  5.04423437e+01],\n",
       "        [ 7.00616548e+00, -1.39039864e+01,  7.00616548e+00]],\n",
       "\n",
       "       [[-1.08930462e+01,  1.03437283e+02, -1.08930462e+01],\n",
       "        [ 3.84927152e+00, -1.18825122e+02,  3.84927152e+00],\n",
       "        [-1.08930462e+01,  1.03437283e+02, -1.08930462e+01]],\n",
       "\n",
       "       [[ 4.76810917e+01,  4.19057049e+01,  4.76810917e+01],\n",
       "        [ 1.54818458e+02,  4.79499373e+01,  1.54818458e+02],\n",
       "        [ 4.76810917e+01,  4.19057049e+01,  4.76810917e+01]],\n",
       "\n",
       "       [[-2.57890006e+00, -1.22582600e+02, -2.57890006e+00],\n",
       "        [ 1.74016141e+02,  1.10842301e+02,  1.74016141e+02],\n",
       "        [-2.57890006e+00, -1.22582600e+02, -2.57890006e+00]],\n",
       "\n",
       "       [[-5.09363275e+01, -4.28113861e+01, -5.09363275e+01],\n",
       "        [ 2.05725444e+02, -7.44278234e+01,  2.05725444e+02],\n",
       "        [-5.09363275e+01, -4.28113861e+01, -5.09363275e+01]],\n",
       "\n",
       "       [[ 5.99977179e+01,  1.65399716e+02,  5.99977179e+01],\n",
       "        [ 1.61414700e+02,  5.05240546e+01,  1.61414700e+02],\n",
       "        [ 5.99977179e+01,  1.65399716e+02,  5.99977179e+01]],\n",
       "\n",
       "       [[ 2.35804760e+01, -6.58773819e+01,  2.35804760e+01],\n",
       "        [-2.32407557e+02, -5.32161748e+01, -2.32407557e+02],\n",
       "        [ 2.35804760e+01, -6.58773819e+01,  2.35804760e+01]],\n",
       "\n",
       "       [[ 1.48086151e+01, -2.12090531e+02,  1.48086151e+01],\n",
       "        [ 5.63714678e+00, -5.14044035e+00,  5.63714678e+00],\n",
       "        [ 1.48086151e+01, -2.12090531e+02,  1.48086151e+01]],\n",
       "\n",
       "       [[ 2.36189583e+01, -3.22055961e+02,  2.36189583e+01],\n",
       "        [-2.87268461e+01,  7.87370962e+00, -2.87268461e+01],\n",
       "        [ 2.36189583e+01, -3.22055961e+02,  2.36189583e+01]]])"
      ]
     },
     "execution_count": 17,
     "metadata": {},
     "output_type": "execute_result"
    }
   ],
   "source": [
    "patch_cubes[0].transpose(2,1,0)"
   ]
  },
  {
   "cell_type": "code",
   "execution_count": 18,
   "metadata": {},
   "outputs": [
    {
     "data": {
      "text/plain": [
       "(3, 3, 30)"
      ]
     },
     "execution_count": 18,
     "metadata": {},
     "output_type": "execute_result"
    }
   ],
   "source": [
    "patch_cubes[0].shape"
   ]
  },
  {
   "cell_type": "code",
   "execution_count": 19,
   "metadata": {},
   "outputs": [
    {
     "data": {
      "text/plain": [
       "(145, 145)"
      ]
     },
     "execution_count": 19,
     "metadata": {},
     "output_type": "execute_result"
    }
   ],
   "source": [
    "out.shape"
   ]
  },
  {
   "cell_type": "code",
   "execution_count": 20,
   "metadata": {},
   "outputs": [],
   "source": [
    "out_labels = out.reshape(145*145,)"
   ]
  },
  {
   "cell_type": "code",
   "execution_count": null,
   "metadata": {},
   "outputs": [],
   "source": [
    "out_labels"
   ]
  },
  {
   "cell_type": "code",
   "execution_count": 21,
   "metadata": {},
   "outputs": [],
   "source": [
    "def useful_sample_lable(patch_cubes):\n",
    "    sample_lable_list = list()\n",
    "    for i in range(len(patch_cubes)):\n",
    "        if out_labels[i] != 0:\n",
    "            sample_lable_list.append((patch_cubes[i],out_labels[i]))\n",
    "    sample_lable_array = np.array(sample_lable_list)\n",
    "    return sample_lable_array"
   ]
  },
  {
   "cell_type": "code",
   "execution_count": null,
   "metadata": {},
   "outputs": [],
   "source": [
    "sample_lable_array = useful_sample_lable(patch_cubes)"
   ]
  },
  {
   "cell_type": "code",
   "execution_count": null,
   "metadata": {},
   "outputs": [],
   "source": [
    "sample_lable_array.shape "
   ]
  },
  {
   "cell_type": "code",
   "execution_count": null,
   "metadata": {},
   "outputs": [],
   "source": [
    "sample_lable_array[0][0].shape  # sample shape"
   ]
  },
  {
   "cell_type": "code",
   "execution_count": null,
   "metadata": {},
   "outputs": [],
   "source": [
    "sample_lable_array[0][1].shape  # label shape"
   ]
  },
  {
   "cell_type": "code",
   "execution_count": null,
   "metadata": {},
   "outputs": [],
   "source": [
    "sample_lable_array[0][1] # label "
   ]
  },
  {
   "cell_type": "markdown",
   "metadata": {},
   "source": [
    "## 搭建 2D-CNN"
   ]
  },
  {
   "cell_type": "code",
   "execution_count": null,
   "metadata": {},
   "outputs": [],
   "source": [
    "import keras"
   ]
  },
  {
   "cell_type": "code",
   "execution_count": null,
   "metadata": {},
   "outputs": [],
   "source": [
    "import keras\n",
    "from keras.models import Sequential\n",
    "from keras.layers import Dense, Dropout, Activation, Flatten\n",
    "from keras.layers import Conv2D,MaxPooling2D\n",
    "from keras.optimizers import SGD\n",
    "import numpy as np"
   ]
  },
  {
   "cell_type": "markdown",
   "metadata": {},
   "source": [
    "## 30x5x5 变为 5x5x30  transpose(2,1,0)    transpose(1,0,2)"
   ]
  },
  {
   "cell_type": "code",
   "execution_count": null,
   "metadata": {},
   "outputs": [],
   "source": [
    "model = Sequential()\n",
    "# input : 5x5 patch with 30 channels - > (5,5,30)\n",
    "# layer1 Conv2d  30 x 3 = 90 filters\n",
    "model.add(Conv2D(90, (3, 3), activation='relu', input_shape=(100, 100, 3)))\n",
    "\n",
    "model.add(Conv2D(270, (3, 3), activation='relu'))\n",
    "\n",
    "          \n",
    "model.add(Dense(180, activation='relu'))\n",
    "model.add(Dense(16, activation='softmax'))\n",
    "          \n",
    "sgd = SGD(lr=0.01, decay=1e-6, momentum=0.9, nesterov=True)\n",
    "model.compile(loss='categorical_crossentropy', optimizer=sgd)\n",
    "          \n",
    "# model.fit(x_train, y_train, batch_size=32, epochs=10)\n",
    "# score = model.evaluate(x_test, y_test, batch_size=32)"
   ]
  },
  {
   "cell_type": "code",
   "execution_count": null,
   "metadata": {},
   "outputs": [],
   "source": []
  }
 ],
 "metadata": {
  "kernelspec": {
   "display_name": "Python 3",
   "language": "python",
   "name": "python3"
  },
  "language_info": {
   "codemirror_mode": {
    "name": "ipython",
    "version": 3
   },
   "file_extension": ".py",
   "mimetype": "text/x-python",
   "name": "python",
   "nbconvert_exporter": "python",
   "pygments_lexer": "ipython3",
   "version": "3.6.4"
  }
 },
 "nbformat": 4,
 "nbformat_minor": 2
}
